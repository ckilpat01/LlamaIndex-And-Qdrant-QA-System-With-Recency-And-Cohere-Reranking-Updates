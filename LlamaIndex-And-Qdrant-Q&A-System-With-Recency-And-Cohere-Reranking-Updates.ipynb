{
  "cells": [
    {
      "cell_type": "markdown",
      "metadata": {
        "id": "XN21EBXiVf76"
      },
      "source": [
        "\n",
        "#  LlamaIndex And Qdrant Q&A System With Recency and Cohere Reranking         Updates\n"
      ]
    },
    {
      "cell_type": "markdown",
      "metadata": {
        "id": "RAImqt1kCa3M"
      },
      "source": [
        "#  Introduction\n",
        "\n",
        "This notebook is a basic demonstration of using LlamaIndex and Qdrant to work together to demonstrate dynamic, adaptable knowledge machines. The rapid pace of information updates makes a dynamically updating system much more valuable than a static system which can become outdated rapidly.\n",
        "\n",
        "The following activities are performed in this notebook:\n",
        "\n",
        "* Loading a news dataset, store it with Qdrant client, and load the data into LlamaIndex.\n",
        "\n",
        "* Two postprocessors: Recency and Cohere Rerank; will be defined and used to create various query engines.\n",
        "\n",
        "* LlamaIndex node sources will be used to investigate questions and sources on which the answers are based.\n",
        "\n",
        "* These engines will be queried with various questions and the responses will be compared."
      ]
    },
    {
      "cell_type": "markdown",
      "metadata": {
        "id": "edwHfa8DVf78"
      },
      "source": [
        "### Install Packages"
      ]
    },
    {
      "cell_type": "code",
      "execution_count": 1,
      "metadata": {
        "id": "wiyrlGm9eFFm"
      },
      "outputs": [],
      "source": [
        "%pip install llama-index==0.10.44 > /dev/null\n",
        "%pip install llama-index-vector-stores-qdrant==0.2.9 > /dev/null\n",
        "%pip install llama-index-postprocessor-cohere-rerank==0.1.7 > /dev/null"
      ]
    },
    {
      "cell_type": "code",
      "execution_count": 50,
      "metadata": {
        "id": "eGxafwX9Vf79"
      },
      "outputs": [],
      "source": [
        "%pip install cohere==5.5.5  > /dev/null\n",
        "%pip install -U qdrant-client==1.9.1 > /dev/null\n",
        "%pip install datasets==2.20.0 > /dev/null\n"
      ]
    },
    {
      "cell_type": "markdown",
      "metadata": {
        "id": "-6B8580OVf7-"
      },
      "source": [
        "### Import Libraries"
      ]
    },
    {
      "cell_type": "code",
      "execution_count": 3,
      "metadata": {
        "id": "ArxqKmD3Vf7-"
      },
      "outputs": [],
      "source": [
        "import datetime\n",
        "import os\n",
        "import random\n",
        "import getpass\n",
        "import cohere\n",
        "from pathlib import Path\n",
        "from typing import Any\n",
        "import tensorflow as tf\n",
        "\n",
        "import pandas as pd\n",
        "import openai\n",
        "from datasets import load_dataset\n",
        "from IPython.display import Markdown, display_markdown\n",
        "from llama_index.core import (VectorStoreIndex, Settings,\n",
        "                         SimpleDirectoryReader)\n",
        "from llama_index.core.postprocessor import FixedRecencyPostprocessor\n",
        "from llama_index.postprocessor.cohere_rerank import CohereRerank\n",
        "from llama_index.vector_stores.qdrant import QdrantVectorStore\n",
        "from qdrant_client import QdrantClient\n",
        "from llama_index.core.node_parser import SentenceSplitter\n",
        "\n",
        "Path.ls = lambda x: list(x.iterdir())\n",
        "random.seed(42)"
      ]
    },
    {
      "cell_type": "code",
      "execution_count": 4,
      "metadata": {
        "id": "u4A-6wzkcRvh"
      },
      "outputs": [],
      "source": [
        "# Remove limit on column display width\n",
        "pd.options.display.max_colwidth = None"
      ]
    },
    {
      "cell_type": "code",
      "execution_count": 5,
      "metadata": {
        "colab": {
          "base_uri": "https://localhost:8080/"
        },
        "id": "AsLI11pWcRvh",
        "outputId": "072e5467-2105-45c0-9ee2-c926ceafc207"
      },
      "outputs": [
        {
          "output_type": "stream",
          "name": "stdout",
          "text": [
            "Using GPU\n"
          ]
        }
      ],
      "source": [
        "# Utilize GPU if available\n",
        "# Get the list of available physical devices\n",
        "physical_devices = tf.config.list_physical_devices('GPU')\n",
        "\n",
        "if len(physical_devices) > 0:\n",
        "    # If a GPU is available, use it\n",
        "    tf.config.experimental.set_memory_growth(physical_devices[0], True)\n",
        "    device = \"/GPU:0\"\n",
        "    print(\"Using GPU\")\n",
        "else:\n",
        "    # If no GPU is available, use CPU\n",
        "    device = \"/CPU:0\"\n",
        "    print(\"Using CPU\")"
      ]
    },
    {
      "cell_type": "markdown",
      "metadata": {
        "id": "zLmx3S9JCa3T"
      },
      "source": [
        "### Retrieve API Keys:"
      ]
    },
    {
      "cell_type": "code",
      "execution_count": 6,
      "metadata": {
        "colab": {
          "base_uri": "https://localhost:8080/"
        },
        "id": "ID7CAe_50iPX",
        "outputId": "b68fee50-40da-4780-c665-ae04f61c55c5"
      },
      "outputs": [
        {
          "name": "stdout",
          "output_type": "stream",
          "text": [
            "OpenAI API Key: ··········\n",
            "COHERE API Key: ··········\n"
          ]
        }
      ],
      "source": [
        "# Retrieve OpenAI key\n",
        "os.environ[\"OPENAI_API_KEY\"] = getpass.getpass(\"OpenAI API Key: \")\n",
        "openai.api_key = os.environ[\"OPENAI_API_KEY\"]\n",
        "\n",
        "# Retrieve Cohere key\n",
        "os.environ[\"COHERE_API_KEY\"] = getpass.getpass(\"COHERE API Key: \")\n",
        "cohere.api_key = os.environ[\"COHERE_API_KEY\"]\n",
        "\n"
      ]
    },
    {
      "cell_type": "markdown",
      "metadata": {
        "id": "ntDKd64nVf7_"
      },
      "source": [
        "# Architecture\n",
        "\n",
        "The answer engine consists of two main parts:\n",
        "\n",
        "1. Retrieval - Done with Qdrant\n",
        "2. Synthesis - Done with OpenAI API\n",
        "\n",
        "LlamaIndex will be used to make the Query Engine and Qdrant will be used for the Vector Store. Components will then be added to keep the engine updated and improve ranking after retrieval."
      ]
    },
    {
      "cell_type": "markdown",
      "metadata": {
        "id": "FBVg1H3KVf7_"
      },
      "source": [
        "# Load Sample Dataset\n",
        "\n",
        "The HuggingFace [News Category Dataset v3] dataset is used. (https://huggingface.co/datasets/heegyu/news-category-dataset). This dataset contains news articles with various fields like `headline`, `category`, `short_description`, `link`, `authors`, and date."
      ]
    },
    {
      "cell_type": "code",
      "execution_count": 7,
      "metadata": {
        "colab": {
          "base_uri": "https://localhost:8080/",
          "height": 113,
          "referenced_widgets": [
            "0a1d432f9c484ebcbef876762ccc2cf1",
            "56025c8e582c4cc88d58dbbc6054ec4a",
            "43da2682cf7f48c2b484615d70635be4",
            "5bec1fa4261b4c0aa6bbc81f0a0c2abe",
            "e169ba2e1f0d45c2b71ae4daed19c5f7",
            "cc0d49577c6c45ecbce83917458aa67f",
            "d9a756aefeb245fb8c8ce3b9f96f846f",
            "43b204fa2bf544da8c12534867ad6609",
            "df508e8db91c4d2e869203946485e8d5",
            "1d779f2c39df401aa9d5f6fa4d8c2269",
            "8bdc302b3dea4db59922ebf71f403d15",
            "8e8e6d58c9e14c349a90d66b4d56a419",
            "3a96cd26297146c0a4fc77d47187bf40",
            "ac607d7fbcca43879d12573a069b9c02",
            "dd129ab7214341c6be4be2843bd93f64",
            "b4aa522f09484596ab342e49e1862ee5",
            "c13c5636f6f04888aa1adecbee394415",
            "ad5b247b2ab2422d898951d375164cb1",
            "ac98b128bc5244879e6df04bae5d704e",
            "edd65d8e82064a27a1282886d78a92b2",
            "cd3e646245d64120bbdc66fe3ebed1ba",
            "ac2d4eda2b174356836bf8ef53ad03f4",
            "3fdf7b59690e419bb159ca95c2097fb6",
            "c7ed334f6892444a9e6c3ffd93f1ddbd",
            "cbfb35ab785e46a49c7de2121b5c9f4f",
            "07d94c8ea8974e64a40e88df3068e34d",
            "2fe2bc10a64f434e848a5a4db201292c",
            "6bb32a6cff3c476e9de45f9f4ab6bc38",
            "f9c72377a01b4b9097785eaab19c3e4b",
            "d38ac542f76144059f0ec32867b5aa91",
            "80d7ae6b9f2346ae8fb612fcd563e1e3",
            "63a0143a02964929b28b017a81ba80eb",
            "0c9ce3aa628246f8927e5b31d312d005"
          ]
        },
        "id": "iK9OIlSKVf7_",
        "outputId": "ca532c6b-f827-4362-b605-a866a447652d"
      },
      "outputs": [
        {
          "output_type": "display_data",
          "data": {
            "text/plain": [
              "Downloading readme:   0%|          | 0.00/101 [00:00<?, ?B/s]"
            ],
            "application/vnd.jupyter.widget-view+json": {
              "version_major": 2,
              "version_minor": 0,
              "model_id": "0a1d432f9c484ebcbef876762ccc2cf1"
            }
          },
          "metadata": {}
        },
        {
          "output_type": "display_data",
          "data": {
            "text/plain": [
              "Downloading data:   0%|          | 0.00/87.3M [00:00<?, ?B/s]"
            ],
            "application/vnd.jupyter.widget-view+json": {
              "version_major": 2,
              "version_minor": 0,
              "model_id": "8e8e6d58c9e14c349a90d66b4d56a419"
            }
          },
          "metadata": {}
        },
        {
          "output_type": "display_data",
          "data": {
            "text/plain": [
              "Generating train split:   0%|          | 0/209527 [00:00<?, ? examples/s]"
            ],
            "application/vnd.jupyter.widget-view+json": {
              "version_major": 2,
              "version_minor": 0,
              "model_id": "3fdf7b59690e419bb159ca95c2097fb6"
            }
          },
          "metadata": {}
        }
      ],
      "source": [
        "# Load Dataset\n",
        "dataset = load_dataset(\"heegyu/news-category-dataset\", split=\"train\")"
      ]
    },
    {
      "cell_type": "code",
      "execution_count": 8,
      "metadata": {
        "colab": {
          "base_uri": "https://localhost:8080/",
          "height": 640
        },
        "id": "j55jKhsCVf7_",
        "outputId": "60d89f49-81b3-4010-a5ef-9a1833706bfd"
      },
      "outputs": [
        {
          "output_type": "execute_result",
          "data": {
            "text/plain": [
              "                                                                                                                                     link  \\\n",
              "0                                                      https://www.huffpost.com/entry/covid-boosters-uptake-us_n_632d719ee4b087fae6feaac9   \n",
              "1  https://www.huffpost.com/entry/american-airlines-passenger-banned-flight-attendant-punch-justice-department_n_632e25d3e4b0e247890329fe   \n",
              "2                                     https://www.huffpost.com/entry/funniest-tweets-cats-dogs-september-17-23_n_632de332e4b0695c1d81dc02   \n",
              "3                                                     https://www.huffpost.com/entry/funniest-parenting-tweets_l_632d7d15e4b0d12b5403e479   \n",
              "4                    https://www.huffpost.com/entry/amy-cooper-loses-discrimination-lawsuit-franklin-templeton_n_632c6463e4b09d8701bd227e   \n",
              "\n",
              "                                                                                    headline  \\\n",
              "0               Over 4 Million Americans Roll Up Sleeves For Omicron-Targeted COVID Boosters   \n",
              "1  American Airlines Flyer Charged, Banned For Life After Punching Flight Attendant On Video   \n",
              "2                      23 Of The Funniest Tweets About Cats And Dogs This Week (Sept. 17-23)   \n",
              "3                                   The Funniest Tweets From Parents This Week (Sept. 17-23)   \n",
              "4              Woman Who Called Cops On Black Bird-Watcher Loses Lawsuit Against Ex-Employer   \n",
              "\n",
              "    category  \\\n",
              "0  U.S. NEWS   \n",
              "1  U.S. NEWS   \n",
              "2     COMEDY   \n",
              "3  PARENTING   \n",
              "4  U.S. NEWS   \n",
              "\n",
              "                                                                                                                                                 short_description  \\\n",
              "0       Health experts said it is too early to predict whether demand would match up with the 171 million doses of the new boosters the U.S. ordered for the fall.   \n",
              "1  He was subdued by passengers and crew when he fled to the back of the aircraft after the confrontation, according to the U.S. attorney's office in Los Angeles.   \n",
              "2                                                                                                 \"Until you have a dog you don't understand what could be eaten.\"   \n",
              "3  \"Accidentally put grown-up toothpaste on my toddler’s toothbrush and he screamed like I was cleaning his teeth with a Carolina Reaper dipped in Tabasco sauce.\"   \n",
              "4     Amy Cooper accused investment firm Franklin Templeton of unfairly firing her and branding her a racist after video of the Central Park encounter went viral.   \n",
              "\n",
              "                authors       date  \n",
              "0  Carla K. Johnson, AP 2022-09-23  \n",
              "1        Mary Papenfuss 2022-09-23  \n",
              "2         Elyse Wanshel 2022-09-23  \n",
              "3      Caroline Bologna 2022-09-23  \n",
              "4        Nina Golgowski 2022-09-22  "
            ],
            "text/html": [
              "\n",
              "  <div id=\"df-136c6fe6-e6ca-4b55-9cc1-c6f2c7b7f65a\" class=\"colab-df-container\">\n",
              "    <div>\n",
              "<style scoped>\n",
              "    .dataframe tbody tr th:only-of-type {\n",
              "        vertical-align: middle;\n",
              "    }\n",
              "\n",
              "    .dataframe tbody tr th {\n",
              "        vertical-align: top;\n",
              "    }\n",
              "\n",
              "    .dataframe thead th {\n",
              "        text-align: right;\n",
              "    }\n",
              "</style>\n",
              "<table border=\"1\" class=\"dataframe\">\n",
              "  <thead>\n",
              "    <tr style=\"text-align: right;\">\n",
              "      <th></th>\n",
              "      <th>link</th>\n",
              "      <th>headline</th>\n",
              "      <th>category</th>\n",
              "      <th>short_description</th>\n",
              "      <th>authors</th>\n",
              "      <th>date</th>\n",
              "    </tr>\n",
              "  </thead>\n",
              "  <tbody>\n",
              "    <tr>\n",
              "      <th>0</th>\n",
              "      <td>https://www.huffpost.com/entry/covid-boosters-uptake-us_n_632d719ee4b087fae6feaac9</td>\n",
              "      <td>Over 4 Million Americans Roll Up Sleeves For Omicron-Targeted COVID Boosters</td>\n",
              "      <td>U.S. NEWS</td>\n",
              "      <td>Health experts said it is too early to predict whether demand would match up with the 171 million doses of the new boosters the U.S. ordered for the fall.</td>\n",
              "      <td>Carla K. Johnson, AP</td>\n",
              "      <td>2022-09-23</td>\n",
              "    </tr>\n",
              "    <tr>\n",
              "      <th>1</th>\n",
              "      <td>https://www.huffpost.com/entry/american-airlines-passenger-banned-flight-attendant-punch-justice-department_n_632e25d3e4b0e247890329fe</td>\n",
              "      <td>American Airlines Flyer Charged, Banned For Life After Punching Flight Attendant On Video</td>\n",
              "      <td>U.S. NEWS</td>\n",
              "      <td>He was subdued by passengers and crew when he fled to the back of the aircraft after the confrontation, according to the U.S. attorney's office in Los Angeles.</td>\n",
              "      <td>Mary Papenfuss</td>\n",
              "      <td>2022-09-23</td>\n",
              "    </tr>\n",
              "    <tr>\n",
              "      <th>2</th>\n",
              "      <td>https://www.huffpost.com/entry/funniest-tweets-cats-dogs-september-17-23_n_632de332e4b0695c1d81dc02</td>\n",
              "      <td>23 Of The Funniest Tweets About Cats And Dogs This Week (Sept. 17-23)</td>\n",
              "      <td>COMEDY</td>\n",
              "      <td>\"Until you have a dog you don't understand what could be eaten.\"</td>\n",
              "      <td>Elyse Wanshel</td>\n",
              "      <td>2022-09-23</td>\n",
              "    </tr>\n",
              "    <tr>\n",
              "      <th>3</th>\n",
              "      <td>https://www.huffpost.com/entry/funniest-parenting-tweets_l_632d7d15e4b0d12b5403e479</td>\n",
              "      <td>The Funniest Tweets From Parents This Week (Sept. 17-23)</td>\n",
              "      <td>PARENTING</td>\n",
              "      <td>\"Accidentally put grown-up toothpaste on my toddler’s toothbrush and he screamed like I was cleaning his teeth with a Carolina Reaper dipped in Tabasco sauce.\"</td>\n",
              "      <td>Caroline Bologna</td>\n",
              "      <td>2022-09-23</td>\n",
              "    </tr>\n",
              "    <tr>\n",
              "      <th>4</th>\n",
              "      <td>https://www.huffpost.com/entry/amy-cooper-loses-discrimination-lawsuit-franklin-templeton_n_632c6463e4b09d8701bd227e</td>\n",
              "      <td>Woman Who Called Cops On Black Bird-Watcher Loses Lawsuit Against Ex-Employer</td>\n",
              "      <td>U.S. NEWS</td>\n",
              "      <td>Amy Cooper accused investment firm Franklin Templeton of unfairly firing her and branding her a racist after video of the Central Park encounter went viral.</td>\n",
              "      <td>Nina Golgowski</td>\n",
              "      <td>2022-09-22</td>\n",
              "    </tr>\n",
              "  </tbody>\n",
              "</table>\n",
              "</div>\n",
              "    <div class=\"colab-df-buttons\">\n",
              "\n",
              "  <div class=\"colab-df-container\">\n",
              "    <button class=\"colab-df-convert\" onclick=\"convertToInteractive('df-136c6fe6-e6ca-4b55-9cc1-c6f2c7b7f65a')\"\n",
              "            title=\"Convert this dataframe to an interactive table.\"\n",
              "            style=\"display:none;\">\n",
              "\n",
              "  <svg xmlns=\"http://www.w3.org/2000/svg\" height=\"24px\" viewBox=\"0 -960 960 960\">\n",
              "    <path d=\"M120-120v-720h720v720H120Zm60-500h600v-160H180v160Zm220 220h160v-160H400v160Zm0 220h160v-160H400v160ZM180-400h160v-160H180v160Zm440 0h160v-160H620v160ZM180-180h160v-160H180v160Zm440 0h160v-160H620v160Z\"/>\n",
              "  </svg>\n",
              "    </button>\n",
              "\n",
              "  <style>\n",
              "    .colab-df-container {\n",
              "      display:flex;\n",
              "      gap: 12px;\n",
              "    }\n",
              "\n",
              "    .colab-df-convert {\n",
              "      background-color: #E8F0FE;\n",
              "      border: none;\n",
              "      border-radius: 50%;\n",
              "      cursor: pointer;\n",
              "      display: none;\n",
              "      fill: #1967D2;\n",
              "      height: 32px;\n",
              "      padding: 0 0 0 0;\n",
              "      width: 32px;\n",
              "    }\n",
              "\n",
              "    .colab-df-convert:hover {\n",
              "      background-color: #E2EBFA;\n",
              "      box-shadow: 0px 1px 2px rgba(60, 64, 67, 0.3), 0px 1px 3px 1px rgba(60, 64, 67, 0.15);\n",
              "      fill: #174EA6;\n",
              "    }\n",
              "\n",
              "    .colab-df-buttons div {\n",
              "      margin-bottom: 4px;\n",
              "    }\n",
              "\n",
              "    [theme=dark] .colab-df-convert {\n",
              "      background-color: #3B4455;\n",
              "      fill: #D2E3FC;\n",
              "    }\n",
              "\n",
              "    [theme=dark] .colab-df-convert:hover {\n",
              "      background-color: #434B5C;\n",
              "      box-shadow: 0px 1px 3px 1px rgba(0, 0, 0, 0.15);\n",
              "      filter: drop-shadow(0px 1px 2px rgba(0, 0, 0, 0.3));\n",
              "      fill: #FFFFFF;\n",
              "    }\n",
              "  </style>\n",
              "\n",
              "    <script>\n",
              "      const buttonEl =\n",
              "        document.querySelector('#df-136c6fe6-e6ca-4b55-9cc1-c6f2c7b7f65a button.colab-df-convert');\n",
              "      buttonEl.style.display =\n",
              "        google.colab.kernel.accessAllowed ? 'block' : 'none';\n",
              "\n",
              "      async function convertToInteractive(key) {\n",
              "        const element = document.querySelector('#df-136c6fe6-e6ca-4b55-9cc1-c6f2c7b7f65a');\n",
              "        const dataTable =\n",
              "          await google.colab.kernel.invokeFunction('convertToInteractive',\n",
              "                                                    [key], {});\n",
              "        if (!dataTable) return;\n",
              "\n",
              "        const docLinkHtml = 'Like what you see? Visit the ' +\n",
              "          '<a target=\"_blank\" href=https://colab.research.google.com/notebooks/data_table.ipynb>data table notebook</a>'\n",
              "          + ' to learn more about interactive tables.';\n",
              "        element.innerHTML = '';\n",
              "        dataTable['output_type'] = 'display_data';\n",
              "        await google.colab.output.renderOutput(dataTable, element);\n",
              "        const docLink = document.createElement('div');\n",
              "        docLink.innerHTML = docLinkHtml;\n",
              "        element.appendChild(docLink);\n",
              "      }\n",
              "    </script>\n",
              "  </div>\n",
              "\n",
              "\n",
              "<div id=\"df-d5989129-627c-4798-adbe-d320f13d25db\">\n",
              "  <button class=\"colab-df-quickchart\" onclick=\"quickchart('df-d5989129-627c-4798-adbe-d320f13d25db')\"\n",
              "            title=\"Suggest charts\"\n",
              "            style=\"display:none;\">\n",
              "\n",
              "<svg xmlns=\"http://www.w3.org/2000/svg\" height=\"24px\"viewBox=\"0 0 24 24\"\n",
              "     width=\"24px\">\n",
              "    <g>\n",
              "        <path d=\"M19 3H5c-1.1 0-2 .9-2 2v14c0 1.1.9 2 2 2h14c1.1 0 2-.9 2-2V5c0-1.1-.9-2-2-2zM9 17H7v-7h2v7zm4 0h-2V7h2v10zm4 0h-2v-4h2v4z\"/>\n",
              "    </g>\n",
              "</svg>\n",
              "  </button>\n",
              "\n",
              "<style>\n",
              "  .colab-df-quickchart {\n",
              "      --bg-color: #E8F0FE;\n",
              "      --fill-color: #1967D2;\n",
              "      --hover-bg-color: #E2EBFA;\n",
              "      --hover-fill-color: #174EA6;\n",
              "      --disabled-fill-color: #AAA;\n",
              "      --disabled-bg-color: #DDD;\n",
              "  }\n",
              "\n",
              "  [theme=dark] .colab-df-quickchart {\n",
              "      --bg-color: #3B4455;\n",
              "      --fill-color: #D2E3FC;\n",
              "      --hover-bg-color: #434B5C;\n",
              "      --hover-fill-color: #FFFFFF;\n",
              "      --disabled-bg-color: #3B4455;\n",
              "      --disabled-fill-color: #666;\n",
              "  }\n",
              "\n",
              "  .colab-df-quickchart {\n",
              "    background-color: var(--bg-color);\n",
              "    border: none;\n",
              "    border-radius: 50%;\n",
              "    cursor: pointer;\n",
              "    display: none;\n",
              "    fill: var(--fill-color);\n",
              "    height: 32px;\n",
              "    padding: 0;\n",
              "    width: 32px;\n",
              "  }\n",
              "\n",
              "  .colab-df-quickchart:hover {\n",
              "    background-color: var(--hover-bg-color);\n",
              "    box-shadow: 0 1px 2px rgba(60, 64, 67, 0.3), 0 1px 3px 1px rgba(60, 64, 67, 0.15);\n",
              "    fill: var(--button-hover-fill-color);\n",
              "  }\n",
              "\n",
              "  .colab-df-quickchart-complete:disabled,\n",
              "  .colab-df-quickchart-complete:disabled:hover {\n",
              "    background-color: var(--disabled-bg-color);\n",
              "    fill: var(--disabled-fill-color);\n",
              "    box-shadow: none;\n",
              "  }\n",
              "\n",
              "  .colab-df-spinner {\n",
              "    border: 2px solid var(--fill-color);\n",
              "    border-color: transparent;\n",
              "    border-bottom-color: var(--fill-color);\n",
              "    animation:\n",
              "      spin 1s steps(1) infinite;\n",
              "  }\n",
              "\n",
              "  @keyframes spin {\n",
              "    0% {\n",
              "      border-color: transparent;\n",
              "      border-bottom-color: var(--fill-color);\n",
              "      border-left-color: var(--fill-color);\n",
              "    }\n",
              "    20% {\n",
              "      border-color: transparent;\n",
              "      border-left-color: var(--fill-color);\n",
              "      border-top-color: var(--fill-color);\n",
              "    }\n",
              "    30% {\n",
              "      border-color: transparent;\n",
              "      border-left-color: var(--fill-color);\n",
              "      border-top-color: var(--fill-color);\n",
              "      border-right-color: var(--fill-color);\n",
              "    }\n",
              "    40% {\n",
              "      border-color: transparent;\n",
              "      border-right-color: var(--fill-color);\n",
              "      border-top-color: var(--fill-color);\n",
              "    }\n",
              "    60% {\n",
              "      border-color: transparent;\n",
              "      border-right-color: var(--fill-color);\n",
              "    }\n",
              "    80% {\n",
              "      border-color: transparent;\n",
              "      border-right-color: var(--fill-color);\n",
              "      border-bottom-color: var(--fill-color);\n",
              "    }\n",
              "    90% {\n",
              "      border-color: transparent;\n",
              "      border-bottom-color: var(--fill-color);\n",
              "    }\n",
              "  }\n",
              "</style>\n",
              "\n",
              "  <script>\n",
              "    async function quickchart(key) {\n",
              "      const quickchartButtonEl =\n",
              "        document.querySelector('#' + key + ' button');\n",
              "      quickchartButtonEl.disabled = true;  // To prevent multiple clicks.\n",
              "      quickchartButtonEl.classList.add('colab-df-spinner');\n",
              "      try {\n",
              "        const charts = await google.colab.kernel.invokeFunction(\n",
              "            'suggestCharts', [key], {});\n",
              "      } catch (error) {\n",
              "        console.error('Error during call to suggestCharts:', error);\n",
              "      }\n",
              "      quickchartButtonEl.classList.remove('colab-df-spinner');\n",
              "      quickchartButtonEl.classList.add('colab-df-quickchart-complete');\n",
              "    }\n",
              "    (() => {\n",
              "      let quickchartButtonEl =\n",
              "        document.querySelector('#df-d5989129-627c-4798-adbe-d320f13d25db button');\n",
              "      quickchartButtonEl.style.display =\n",
              "        google.colab.kernel.accessAllowed ? 'block' : 'none';\n",
              "    })();\n",
              "  </script>\n",
              "</div>\n",
              "\n",
              "    </div>\n",
              "  </div>\n"
            ],
            "application/vnd.google.colaboratory.intrinsic+json": {
              "type": "dataframe",
              "variable_name": "df"
            }
          },
          "metadata": {},
          "execution_count": 8
        }
      ],
      "source": [
        "# Define a get_single_text function to return muliline string contining contents of the three categories listed.\n",
        "def get_single_text(k):\n",
        "    return f\"Under the category:\\n{k['category']}:\\n{k['headline']}\\n{k['short_description']}\"\n",
        "\n",
        "# Define DataFrame and print head\n",
        "df = pd.DataFrame(dataset)\n",
        "df.head()"
      ]
    },
    {
      "cell_type": "code",
      "execution_count": 9,
      "metadata": {
        "id": "aeKi5CTDVf7_"
      },
      "outputs": [],
      "source": [
        "# Extract year data from date column and store in the year column\n",
        "df[\"year\"] = df[\"date\"].dt.year\n",
        "\n",
        "# Define list of categories to keep\n",
        "category_columns_to_keep = [\"POLITICS\", \"THE WORLDPOST\", \"WORLD NEWS\", \"WORLDPOST\", \"U.S. NEWS\"]\n",
        "\n",
        "# Create boolean mask and filter by category\n",
        "df_filtered = df[df[\"category\"].isin(category_columns_to_keep)]\n",
        "\n",
        "# Create function to randomly sample the minimum of either 200 rows or number of rows in DaaFrame\n",
        "def sample_func(x):\n",
        "    return x.sample(min(len(x), 200), random_state=42)\n",
        "\n",
        "# Apply sample_func to each unique year and then reset index to simple sequential index, drop grouped index\n",
        "df_sampled = df_filtered.groupby(\"year\").apply(sample_func).reset_index(drop=True)"
      ]
    },
    {
      "cell_type": "code",
      "execution_count": 10,
      "metadata": {
        "colab": {
          "base_uri": "https://localhost:8080/"
        },
        "id": "h6MVUwhmVf8A",
        "outputId": "d2db7a8c-7aae-4eea-98a0-fa6a5211ce8c"
      },
      "outputs": [
        {
          "output_type": "execute_result",
          "data": {
            "text/plain": [
              "year\n",
              "2014    200\n",
              "2015    200\n",
              "2016    200\n",
              "2017    200\n",
              "2018    200\n",
              "2019    200\n",
              "2020    200\n",
              "2021    200\n",
              "2022    200\n",
              "Name: count, dtype: int64"
            ]
          },
          "metadata": {},
          "execution_count": 10
        }
      ],
      "source": [
        "# Determine entries by count of year\n",
        "df_sampled[\"year\"].value_counts()"
      ]
    },
    {
      "cell_type": "code",
      "execution_count": 11,
      "metadata": {
        "id": "8ll-pal_Vf8A"
      },
      "outputs": [],
      "source": [
        "# Delete dataframe\n",
        "del df"
      ]
    },
    {
      "cell_type": "code",
      "execution_count": 12,
      "metadata": {
        "id": "q29b3_PbVf8A"
      },
      "outputs": [],
      "source": [
        "# Set df to sampled_df\n",
        "df = df_sampled"
      ]
    },
    {
      "cell_type": "code",
      "execution_count": 13,
      "metadata": {
        "colab": {
          "base_uri": "https://localhost:8080/"
        },
        "id": "dvOD_D0zVf8A",
        "outputId": "b44380b8-cbae-44a1-ec63-ca9e9d01f832"
      },
      "outputs": [
        {
          "output_type": "execute_result",
          "data": {
            "text/plain": [
              "0       Under the category:\\nWORLDPOST:\\nAfghans Don't Like Soybeans, Despite a Big U.S. Push\\nAfghanistan has a rich culinary tradition, but soybeans have not been a part of it. American agricultural experts who consider soybeans a superfood find this dismaying, and so over the past four years, they have invested tens of millions of U.S. taxpayer dollars to try to change the way Afghans eat.\n",
              "1                                                                                                                                                                                                                                                                                                             Under the category:\\nPOLITICS:\\nACLU Seeks To Challenge Law Targeting Pregnant Drug Addicts\\n\n",
              "2                                               Under the category:\\nPOLITICS:\\nWork and Worth\\nWhat someone is paid has little or no relationship to what their work is worth to society. Does anyone seriously believe hedge-fund mogul Steven A. Cohen is worth the $2.3 billion he raked in last year, despite being slapped with a $1.8 billion fine after his firm pleaded guilty to insider trading?\n",
              "3                                                                                                                                                                                                                                                                                               Under the category:\\nPOLITICS:\\nJody Hice, Anti-Islam Republican, Defeats Ken Dious In Georgia House Race\\n\n",
              "4                                                                                                                                                                                                                                                                                                                               Under the category:\\nPOLITICS:\\nCapito Wins West Virginia Senate Election\\n\n",
              "                                                                                                                                                                                                       ...                                                                                                                                                                                                 \n",
              "1795                                                                                                                           Under the category:\\nPOLITICS:\\nA Hard-Right Republican And A Progressive Debated. It Went As Well As You'd Expect.\\nJosh Mandel and Morgan Harper, running for Senate from opposite ends of the political spectrum, debated in Columbus. A moment for consensus it was not.\n",
              "1796                                                                                                                                         Under the category:\\nPOLITICS:\\nHerschel Walker Is A Messy Candidate, But The Georgia Senate Race Is Still A Toss-Up\\nDespite his many scandals and gaffes, polls show the former football star trailing only slightly behind Democratic Sen. Raphael Warnock.\n",
              "1797                                                                                                                                                                          Under the category:\\nU.S. NEWS:\\nStocks Fall, Oil Tops $100 A Barrel As Ukraine War Rages\\nStocks fell as soaring oil prices raised more concerns about how Russia’s escalating war on Ukraine may impact the global economy.\n",
              "1798                                                                                                                                                                                                 Under the category:\\nWORLD NEWS:\\nPeru Court Orders Ex-President Fujimori Freed From Prison\\nPeru's former President Alberto Fujimori is serving a 25-year sentence for murder and corruption charges.\n",
              "1799                                                                                                                                                Under the category:\\nPOLITICS:\\nMichigan Secretary of State Worried About ‘Violence And Disruption’ Going Into Midterms\\nJocelyn Benson said misinformation \"fuels the potential for additional threats, harassment and even violence on Election Day.\"\n",
              "Name: text, Length: 1800, dtype: object"
            ]
          },
          "metadata": {},
          "execution_count": 13
        }
      ],
      "source": [
        "# Apply function get_single_text defined above to each row.\n",
        "df[\"text\"] = df.apply(get_single_text, axis=1)\n",
        "df[\"text\"]"
      ]
    },
    {
      "cell_type": "code",
      "execution_count": 14,
      "metadata": {
        "colab": {
          "base_uri": "https://localhost:8080/",
          "height": 70
        },
        "id": "zF-ftBEQVf8A",
        "outputId": "d59c207b-5baf-424f-f096-5b01d93159a0"
      },
      "outputs": [
        {
          "output_type": "execute_result",
          "data": {
            "text/plain": [
              "'Under the category:\\nPOLITICS:\\nPulling the Princes From Their Thrones\\nIt is the time of year to think about the Christmas story, even if the main characters are a bit on the radical side. It is good to remember as we fight the battles of today that common-sense and basic justice have always sounded a little radical, especially to those in power.'"
            ],
            "application/vnd.google.colaboratory.intrinsic+json": {
              "type": "string"
            }
          },
          "metadata": {},
          "execution_count": 14
        }
      ],
      "source": [
        "# Print a line of DataFrame\n",
        "df[\"text\"][10]"
      ]
    },
    {
      "cell_type": "code",
      "execution_count": 15,
      "metadata": {
        "id": "mNnc2LMwVf8A"
      },
      "outputs": [],
      "source": [
        "# Drop year column\n",
        "df.drop(columns=[\"year\"], inplace=True)"
      ]
    },
    {
      "cell_type": "code",
      "execution_count": 16,
      "metadata": {
        "colab": {
          "base_uri": "https://localhost:8080/"
        },
        "id": "yHBonw9mVf8A",
        "outputId": "c88de339-ab23-4c5d-85a5-a0732108f4e4"
      },
      "outputs": [
        {
          "output_type": "stream",
          "name": "stdout",
          "text": [
            "CPU times: user 273 ms, sys: 105 ms, total: 378 ms\n",
            "Wall time: 389 ms\n"
          ]
        }
      ],
      "source": [
        "# Write documents to text files in directory. Each document to be written to a text file named after it's date and row index.\n",
        "%%time\n",
        "\n",
        "# Convert path object to an absolute path\n",
        "write_dir = Path(\"../data/sample\").resolve()\n",
        "\n",
        "# Clear directory if it exists\n",
        "if write_dir.exists():\n",
        "    [f.unlink() for f in write_dir.ls()]\n",
        "\n",
        "# Create directory if it doesn't exist\n",
        "write_dir.mkdir(exist_ok=True, parents=True)\n",
        "\n",
        "# Iterate through DataFrame rows\n",
        "for index, row in df.iterrows():\n",
        "    date = str(row[\"date\"]).replace(\"-\", \"_\")  # replace '-' in date with '_' to avoid issues with file names\n",
        "    file_path = write_dir / f\"date_{date}_row_{index}.txt\" # Create file path using formatted date and row index\n",
        "    with file_path.open(\"w\") as f:       # Open file in write mode\n",
        "        f.write(row[\"text\"])             # Write the \"text\" value from current row into file"
      ]
    },
    {
      "cell_type": "markdown",
      "metadata": {
        "id": "aQ7X5b-NVf8A"
      },
      "source": [
        "## Store Dataset with Qdrant Client"
      ]
    },
    {
      "cell_type": "code",
      "execution_count": 17,
      "metadata": {
        "colab": {
          "base_uri": "https://localhost:8080/"
        },
        "id": "u-MUPjSmA9D0",
        "outputId": "57281719-a746-4008-f300-aadb5c4fa6ed"
      },
      "outputs": [
        {
          "name": "stdout",
          "output_type": "stream",
          "text": [
            "QDRANT API Key: ··········\n"
          ]
        }
      ],
      "source": [
        "# Retrieve Qdrant API key\n",
        "os.environ[\"QDRANT_API_KEY\"] = getpass.getpass(\"QDRANT API Key: \")\n",
        "api_key = os.environ[\"QDRANT_API_KEY\"]"
      ]
    },
    {
      "cell_type": "code",
      "execution_count": 18,
      "metadata": {
        "id": "y_eofjeTVf8A"
      },
      "outputs": [],
      "source": [
        "# Use :memory: mode for this lightweight application as it does no require Qdrant to be deployed anywhere\n",
        "client = QdrantClient(\":memory:\")"
      ]
    },
    {
      "cell_type": "markdown",
      "metadata": {
        "id": "9fotmHCQVf8A"
      },
      "source": [
        "## Load Data into LlamaIndex"
      ]
    },
    {
      "cell_type": "code",
      "execution_count": 19,
      "metadata": {
        "id": "-M2UsRJJVf8B"
      },
      "outputs": [],
      "source": [
        "# Define a function to get the metadata from a file name, and pass this function to the `SimpleDirectoryReader` class.\n",
        "def get_file_metadata(file_name: str):\n",
        "    \"\"\"Get file metadata.\"\"\"\n",
        "    date_str = Path(file_name).stem.split(\"_\")[1:4]\n",
        "    return {\"date\": \"-\".join(date_str)}\n",
        "\n",
        "# Pass get_file_metadata funcion to the SimpleDirectoryReader class\n",
        "documents = SimpleDirectoryReader(input_files=write_dir.ls(), file_metadata=get_file_metadata).load_data()"
      ]
    },
    {
      "cell_type": "code",
      "execution_count": 20,
      "metadata": {
        "colab": {
          "base_uri": "https://localhost:8080/"
        },
        "id": "QHRyWvfVVf8B",
        "outputId": "cb4f6b82-4541-4973-e503-b75613fc6cd2"
      },
      "outputs": [
        {
          "output_type": "execute_result",
          "data": {
            "text/plain": [
              "1800"
            ]
          },
          "metadata": {},
          "execution_count": 20
        }
      ],
      "source": [
        "# Determine documents length\n",
        "len(documents)"
      ]
    },
    {
      "cell_type": "code",
      "execution_count": 21,
      "metadata": {
        "id": "5suBw1YyVf8B"
      },
      "outputs": [],
      "source": [
        "# Examine date ranges in dataset. Date key is necessary for the Recency Postprocessor\n",
        "dates, years = [], []\n",
        "\n",
        "for document in documents:\n",
        "    dt = datetime.datetime.fromisoformat(document.extra_info[\"date\"])\n",
        "    #     print(d)\n",
        "    try:\n",
        "        dates.append(dt)\n",
        "        years.append(dt.year)\n",
        "    except:\n",
        "        print(d)"
      ]
    },
    {
      "cell_type": "code",
      "execution_count": 22,
      "metadata": {
        "id": "o5Abq9paVf8B",
        "scrolled": false
      },
      "outputs": [],
      "source": [
        "# define service context (wrapper container around current classes)\n",
        "# service_context = ServiceContext.from_defaults(chunk_size=512)\n",
        "Settings.node_parser = SentenceSplitter(chunk_size=512, chunk_overlap=20)\n",
        "\n",
        "# Create vector store\n",
        "vector_store = QdrantVectorStore(client=client, collection_name=\"NewsCategoryv3PoliticsSample\")"
      ]
    },
    {
      "cell_type": "code",
      "execution_count": 23,
      "metadata": {
        "colab": {
          "base_uri": "https://localhost:8080/"
        },
        "id": "xvjEIWIZVf8B",
        "outputId": "380a6fb7-b3a0-4313-8177-87475810da47"
      },
      "outputs": [
        {
          "output_type": "stream",
          "name": "stdout",
          "text": [
            "CPU times: user 14 s, sys: 136 ms, total: 14.2 s\n",
            "Wall time: 25.3 s\n"
          ]
        }
      ],
      "source": [
        "# Create VectorStoreIndex from the documents\n",
        "%%time\n",
        "index = VectorStoreIndex.from_documents(documents, vector_store=vector_store)"
      ]
    },
    {
      "cell_type": "markdown",
      "metadata": {
        "id": "6TsVBMshVf8B"
      },
      "source": [
        "## Execute A Test Query\n",
        "\n",
        "An index has been created, however extra functionality is needed:\n",
        "\n",
        "1. Retrieval\n",
        "    - Convert the text query into embedding\n",
        "    - Find the most similar documents\n",
        "2. Synthesis\n",
        "    - The LLM (OpenAI) texts the question, similar documents and a prompt to return a response.\n",
        "    \n",
        "For clarity this demonstration notebook will employ queries with a very clear cut true or false answer which has changed over time."
      ]
    },
    {
      "cell_type": "code",
      "execution_count": 24,
      "metadata": {
        "id": "F83qxXaLVf8B"
      },
      "outputs": [],
      "source": [
        "# Define query engine\n",
        "query_engine = index.as_query_engine(similarity_top_k=10)"
      ]
    },
    {
      "cell_type": "code",
      "execution_count": 25,
      "metadata": {
        "colab": {
          "base_uri": "https://localhost:8080/"
        },
        "id": "xYX7xVUkVf8B",
        "outputId": "ada86d1c-204e-4138-c6cb-74aa58539085"
      },
      "outputs": [
        {
          "output_type": "stream",
          "name": "stdout",
          "text": [
            "Barack Obama.\n"
          ]
        }
      ],
      "source": [
        "# Submit a query without any time context included.\n",
        "response = query_engine.query(\"Who is the US President?\")\n",
        "print(response)"
      ]
    },
    {
      "cell_type": "code",
      "execution_count": 26,
      "metadata": {
        "colab": {
          "base_uri": "https://localhost:8080/"
        },
        "id": "AvdojQI7Vf8B",
        "outputId": "7be10169-3d38-4209-efc4-b5acd25b1501"
      },
      "outputs": [
        {
          "output_type": "stream",
          "name": "stdout",
          "text": [
            "The current US President is Joe Biden.\n"
          ]
        }
      ],
      "source": [
        "# Submit the identical query, however, with a specific time context included.\n",
        "response = query_engine.query(\"Who is the current US President?\")\n",
        "print(response)"
      ]
    },
    {
      "cell_type": "markdown",
      "metadata": {
        "id": "Bj6zIkZs4RCG"
      },
      "source": [
        "### Observation\n",
        "\n",
        "* Note that the addition of s specific time context that is otherwise identical results in a different, correct answer."
      ]
    },
    {
      "cell_type": "markdown",
      "metadata": {
        "id": "Qrrqz0V74RCH"
      },
      "source": [
        "## Adding Postprocessors"
      ]
    },
    {
      "cell_type": "markdown",
      "metadata": {
        "id": "w1TCzu8UVf8F"
      },
      "source": [
        "###  Defining Query Engines and Postprocessors\n",
        "\n",
        "* The Vector Store (Qdrant) query engine which searches the entire vector store and returns the top k results.\n",
        "* Recency postprocessor which searches the top K results returned by the vector store and prioritizes the most recent.  \n",
        "* Cohere reranking postprocessor which searches the top k results returned by the vector store and reranks them.\n",
        "* Combined postprocessor which searches the vector store top k results and reranks using combined recency and Cohere rerankers."
      ]
    },
    {
      "cell_type": "code",
      "execution_count": 27,
      "metadata": {
        "id": "WeXdj6DIVf8F"
      },
      "outputs": [],
      "source": [
        "# Define Recency Postprocessor\n",
        "recency_postprocessor = FixedRecencyPostprocessor(top_k=1)"
      ]
    },
    {
      "cell_type": "code",
      "execution_count": 28,
      "metadata": {
        "id": "CHdW-fznVf8F"
      },
      "outputs": [],
      "source": [
        "# Define top_k once and reused for consistancy\n",
        "top_k = 10"
      ]
    },
    {
      "cell_type": "code",
      "execution_count": 29,
      "metadata": {
        "id": "q99dupQxVf8F"
      },
      "outputs": [],
      "source": [
        "# Define the Vector Store (Qdrant) query engine\n",
        "index_query_engine = index.as_query_engine(\n",
        "    similarity_top_k=top_k,\n",
        ")"
      ]
    },
    {
      "cell_type": "code",
      "execution_count": 30,
      "metadata": {
        "id": "Zl8RfC1IVf8F"
      },
      "outputs": [],
      "source": [
        "# Define a Recency Engine query engine\n",
        "recency_query_engine = index.as_query_engine(\n",
        "    similarity_top_k=top_k,\n",
        "    node_postprocessors=[recency_postprocessor],\n",
        ")"
      ]
    },
    {
      "cell_type": "code",
      "execution_count": 31,
      "metadata": {
        "id": "3rtVPGONVf8G"
      },
      "outputs": [],
      "source": [
        "# Define a Cohere Reranking query engine\n",
        "cohere_rerank = CohereRerank(api_key=os.environ[\"COHERE_API_KEY\"], top_n=top_k)\n",
        "reranking_query_engine = index.as_query_engine(\n",
        "    similarity_top_k=top_k,\n",
        "    node_postprocessors=[cohere_rerank],\n",
        ")"
      ]
    },
    {
      "cell_type": "code",
      "execution_count": 32,
      "metadata": {
        "id": "LJeIuBbFVf8G"
      },
      "outputs": [],
      "source": [
        "# Define a combined Cohere Rerank and Recency Post Processor query engine\n",
        "query_engine = index.as_query_engine(\n",
        "    similarity_top_k=top_k,\n",
        "    node_postprocessors=[cohere_rerank, recency_postprocessor],\n",
        ")"
      ]
    },
    {
      "cell_type": "markdown",
      "metadata": {
        "id": "OntQeJg8Vf8G"
      },
      "source": [
        "## Querying the Engines and Comparing Results\n"
      ]
    },
    {
      "cell_type": "code",
      "execution_count": 33,
      "metadata": {
        "colab": {
          "base_uri": "https://localhost:8080/"
        },
        "id": "S3tJU48xVf8G",
        "outputId": "f7b1e64d-eff1-40a7-c9b7-b41f4825205d"
      },
      "outputs": [
        {
          "output_type": "stream",
          "name": "stdout",
          "text": [
            "The current US President is Joe Biden.\n"
          ]
        }
      ],
      "source": [
        "# Query the Vector Store (Qdrant) query engine\n",
        "response = index_query_engine.query(\"Who is the current US President?\")\n",
        "print(response)"
      ]
    },
    {
      "cell_type": "markdown",
      "source": [
        "### Observations                                            \n",
        "* The vector store returns the correct answer when a temporal basis is included in the query."
      ],
      "metadata": {
        "id": "Ho-VZ1iK7Ca-"
      }
    },
    {
      "cell_type": "code",
      "execution_count": 34,
      "metadata": {
        "colab": {
          "base_uri": "https://localhost:8080/"
        },
        "id": "9HaHYQf7Vf8G",
        "outputId": "3f6d3e0a-26e8-4aa0-8860-a150667f2c46"
      },
      "outputs": [
        {
          "output_type": "stream",
          "name": "stdout",
          "text": [
            "> Source (Doc id: be1e6124-176b-4af4-ba02-251cea668941): Under the category:\n",
            "THE WORLDPOST:\n",
            "World Leaders React To The Reality Of A Trump Presidency\n",
            "Many ...\n",
            "\n",
            "> Source (Doc id: cbb4475d-fdd4-42f4-ba72-90b6c47819fe): Under the category:\n",
            "POLITICS:\n",
            "The Issue That's Looming Over The Final Years Of Obama's Presidency\n",
            "\n",
            "> S\n"
          ]
        }
      ],
      "source": [
        "# Print response for more detailed information\n",
        "print(response.get_formatted_sources()[:318])"
      ]
    },
    {
      "cell_type": "code",
      "execution_count": 35,
      "metadata": {
        "id": "LqdLKxkaVf8H"
      },
      "outputs": [],
      "source": [
        "# Setup tools to have a question, answer, and and the responses from the index engine in the same object\n",
        "def mprint(text: str):\n",
        "    display_markdown(Markdown(text))\n",
        "\n",
        "\n",
        "class QAInfo:\n",
        "    \"\"\"This class is used to store the question, correct answer and responses from different query engines.\"\"\"\n",
        "\n",
        "    def __init__(self, question: str, correct_answer: str, query_engines: dict[str, Any]):\n",
        "        self.question = question\n",
        "        self.query_engines = query_engines\n",
        "        self.correct_answer = correct_answer\n",
        "        self.responses = {}\n",
        "\n",
        "    def add_response(self, engine: str, response: str):\n",
        "        # This method is used to add the response of a query engine to the responses dictionary.\n",
        "        self.responses[engine] = response\n",
        "\n",
        "    def compare_responses(self):\n",
        "        \"\"\"This function takes in a QAInfo object and a dictionary of query engines, and runs the question through each query engine.\n",
        "        The responses from each engine are added to the QAInfo object.\"\"\"\n",
        "        mprint(f\"### Question: {self.question}\")\n",
        "\n",
        "        for engine_name, engine in query_engines.items():\n",
        "            response = engine.query(self.question)\n",
        "            self.add_response(engine_name, response)\n",
        "            mprint(f\"**{engine_name.title()}**: {response}\")\n",
        "\n",
        "        mprint(f\"Correct Answer is: {self.correct_answer}\")\n",
        "\n",
        "    def node_print(self, index, preview_count=5):\n",
        "        source_nodes = self.responses[index].source_nodes\n",
        "        for i in range(preview_count):\n",
        "            mprint(f\"- {source_nodes[i].node.text}\")\n",
        "\n",
        "\n",
        "query_engines = {\n",
        "    \"qdrant\": index_query_engine,\n",
        "    \"recency\": recency_query_engine,\n",
        "    \"reranking\": reranking_query_engine,\n",
        "    \"both\": query_engine,\n",
        "}"
      ]
    },
    {
      "cell_type": "code",
      "execution_count": 36,
      "metadata": {
        "colab": {
          "base_uri": "https://localhost:8080/",
          "height": 176
        },
        "id": "nHE1k8TsVf8H",
        "outputId": "7ec1ebf1-8e99-46d3-e2c7-36dd4072db26"
      },
      "outputs": [
        {
          "output_type": "display_data",
          "data": {
            "text/markdown": "### Question: Who is the US President?"
          },
          "metadata": {}
        },
        {
          "output_type": "display_data",
          "data": {
            "text/markdown": "**Qdrant**: Barack Obama."
          },
          "metadata": {}
        },
        {
          "output_type": "display_data",
          "data": {
            "text/markdown": "**Recency**: The US President is Joe Biden."
          },
          "metadata": {}
        },
        {
          "output_type": "display_data",
          "data": {
            "text/markdown": "**Reranking**: The US President is Barack Obama."
          },
          "metadata": {}
        },
        {
          "output_type": "display_data",
          "data": {
            "text/markdown": "**Both**: The US President is Joe Biden."
          },
          "metadata": {}
        },
        {
          "output_type": "display_data",
          "data": {
            "text/markdown": "Correct Answer is: Joe Biden"
          },
          "metadata": {}
        }
      ],
      "source": [
        "# Query all the four engines and compare responses\n",
        "question = \"Who is the US President?\"\n",
        "correct_answer = \"Joe Biden\"\n",
        "president_qa_info = QAInfo(question=question, correct_answer=correct_answer, query_engines=query_engines)\n",
        "president_qa_info.compare_responses()"
      ]
    },
    {
      "cell_type": "markdown",
      "source": [
        "### Observations\n",
        "* With no temporal reference in the question the Qrant vector store query egine returns the incorrect answer.\n",
        "* The Recency query engine reviewed the top k responsed returned by the vector store, prioritized the most recent information, and returned the correct answer.\n",
        "* The Cohere Reranking query engine reviewed the top k reponses from the vector store and returned the incorrec answer.\n",
        "* Combining the Recency and Cohere Reranking query engines rsulted in a correbt response even when there was no temporal context in the question.\n",
        "                                                 "
      ],
      "metadata": {
        "id": "qcv9H6Ua8dHU"
      }
    },
    {
      "cell_type": "code",
      "execution_count": 37,
      "metadata": {
        "colab": {
          "base_uri": "https://localhost:8080/",
          "height": 64
        },
        "id": "epP1prjGVf8H",
        "outputId": "2e23ba52-d63b-4b0a-c6d4-45a86642f66d"
      },
      "outputs": [
        {
          "output_type": "display_data",
          "data": {
            "text/markdown": "- Under the category:\nTHE WORLDPOST:\nWorld Leaders React To The Reality Of A Trump Presidency\nMany of the presidential memorandums and executive decisions will fundamentally affect countries around the globe."
          },
          "metadata": {}
        }
      ],
      "source": [
        "# Print Qdrant vector store  based response\n",
        "president_qa_info.node_print(index=\"qdrant\", preview_count=1)"
      ]
    },
    {
      "cell_type": "code",
      "execution_count": 38,
      "metadata": {
        "colab": {
          "base_uri": "https://localhost:8080/",
          "height": 64
        },
        "id": "-5HQn9TmVf8H",
        "outputId": "f5861a65-2a5b-4dba-b244-9f7effbd4617"
      },
      "outputs": [
        {
          "output_type": "display_data",
          "data": {
            "text/markdown": "- Under the category:\nWORLD NEWS:\nBiden On Putin: 'For God's Sake, This Man Cannot Remain In Power'\nPresident Joe Biden visited Poland's capital on Saturday to speak with refugees who've been displaced amid Russia's attack on Ukraine."
          },
          "metadata": {}
        }
      ],
      "source": [
        "# Print recency based response\n",
        "president_qa_info.node_print(index=\"recency\", preview_count=1)"
      ]
    },
    {
      "cell_type": "code",
      "execution_count": 39,
      "metadata": {
        "colab": {
          "base_uri": "https://localhost:8080/",
          "height": 81
        },
        "outputId": "0a2c0433-da51-430f-bf61-62794306ac34",
        "id": "6oSc4Dd_4RCM"
      },
      "outputs": [
        {
          "output_type": "display_data",
          "data": {
            "text/markdown": "- Under the category:\nWORLDPOST:\nPresident Obama Touts Partnership With Egypt's Military Regime: Yet Repression Continues Unabated\nIn any case, Washington's influence is limited: The Sisi regime will do whatever it believes necessary to retain power. Whatever America does, Egypt is likely to end up without liberty or stability. Washington should step back from a crisis that it can't resolve."
          },
          "metadata": {}
        }
      ],
      "source": [
        "# Print Cohere reranking based response\n",
        "president_qa_info.node_print(index=\"reranking\", preview_count=1)"
      ]
    },
    {
      "cell_type": "code",
      "execution_count": 40,
      "metadata": {
        "colab": {
          "base_uri": "https://localhost:8080/",
          "height": 64
        },
        "outputId": "c39e10bb-23ed-443c-98f3-9ce33b7825c2",
        "id": "m5OtYpg14RCM"
      },
      "outputs": [
        {
          "output_type": "display_data",
          "data": {
            "text/markdown": "- Under the category:\nWORLD NEWS:\nBiden On Putin: 'For God's Sake, This Man Cannot Remain In Power'\nPresident Joe Biden visited Poland's capital on Saturday to speak with refugees who've been displaced amid Russia's attack on Ukraine."
          },
          "metadata": {}
        }
      ],
      "source": [
        "# Print combined query engine based response\n",
        "president_qa_info.node_print(index=\"both\", preview_count=1)"
      ]
    },
    {
      "cell_type": "markdown",
      "metadata": {
        "id": "P1NJBR8qVf8H"
      },
      "source": [
        "### Submit a question which includes a specific year"
      ]
    },
    {
      "cell_type": "code",
      "execution_count": 41,
      "metadata": {
        "colab": {
          "base_uri": "https://localhost:8080/",
          "height": 176
        },
        "id": "xkQ7GyWvVf8H",
        "outputId": "3713eb53-e9ff-4530-e8bf-c9106b511ce7"
      },
      "outputs": [
        {
          "output_type": "display_data",
          "data": {
            "text/markdown": "### Question: Who is the US President in 2022?"
          },
          "metadata": {}
        },
        {
          "output_type": "display_data",
          "data": {
            "text/markdown": "**Qdrant**: Joe Biden"
          },
          "metadata": {}
        },
        {
          "output_type": "display_data",
          "data": {
            "text/markdown": "**Recency**: I cannot provide the current US President in 2022 as it is not mentioned in the provided context."
          },
          "metadata": {}
        },
        {
          "output_type": "display_data",
          "data": {
            "text/markdown": "**Reranking**: Joe Biden"
          },
          "metadata": {}
        },
        {
          "output_type": "display_data",
          "data": {
            "text/markdown": "**Both**: I cannot provide the name of the US President in 2022 based on the context information provided."
          },
          "metadata": {}
        },
        {
          "output_type": "display_data",
          "data": {
            "text/markdown": "Correct Answer is: Joe Biden"
          },
          "metadata": {}
        }
      ],
      "source": [
        "# Submit an identical query to all four query engines\n",
        "question = \"Who is the US President in 2022?\"\n",
        "correct_answer = \"Joe Biden\"  # This would normally be determined programmatically.\n",
        "current_president_qa_info = QAInfo(\n",
        "    question=question, correct_answer=correct_answer, query_engines=query_engines\n",
        ")\n",
        "current_president_qa_info.compare_responses()"
      ]
    },
    {
      "cell_type": "markdown",
      "source": [
        "### Oservations\n",
        "* The Recency query engine responds that it can not answer when a question which references a specific year is submitted.\n",
        "* The combined Recency and Cohere Reranking query engine responds that it can not answer when a question which references a specific year is submitted."
      ],
      "metadata": {
        "id": "ifjFs1PM_41s"
      }
    },
    {
      "cell_type": "markdown",
      "metadata": {
        "id": "KyYWRUncVf8H"
      },
      "source": [
        "### Investigating for Ranking Challenges\n",
        "\n",
        "We pull the few top documents which from each query engine. To make them easy to read, we've a utility `node_print` here.\n",
        "\n",
        "\n",
        "💡 We notice that Qdrant (using embeddings) correctly pulls out a few mentions of \"2024\", \"Joe Biden\" and \"President Joe Biden\"\n",
        "\n",
        "💡 Cohere also re-orders the top 10 candidates to give the top 3 which mention \"President Joe Biden\".\n",
        "\n",
        "With Recency, we get an undetermined answer. This is because we're only using the one, most recent result."
      ]
    },
    {
      "cell_type": "code",
      "execution_count": 42,
      "metadata": {
        "colab": {
          "base_uri": "https://localhost:8080/",
          "height": 145
        },
        "id": "dXZGK8bOVf8H",
        "outputId": "97903625-68a3-42bc-a36e-08aee86f9dcc"
      },
      "outputs": [
        {
          "output_type": "display_data",
          "data": {
            "text/markdown": "- Under the category:\nPOLITICS:\nJoe Biden Says He 'Can't Picture' U.S. Troops Being In Afghanistan In 2022\nThe president doubled down on his promise to end America's longest-running war at a Thursday press conference, though he said a May 1 deadline seemed unlikely."
          },
          "metadata": {}
        },
        {
          "output_type": "display_data",
          "data": {
            "text/markdown": "- Under the category:\nPOLITICS:\nHow A Crowded GOP Field Could Bolster A Trump 2024 Campaign\nAs Donald Trump considers another White House run, polls show he's the most popular figure in the Republican Party."
          },
          "metadata": {}
        },
        {
          "output_type": "display_data",
          "data": {
            "text/markdown": "- Under the category:\nPOLITICS:\nEx-CIA Director Issues Chilling Warning On What 4 More Years Of Trump Would Mean\nRetired Gen. Michael Hayden endorses Joe Biden in a new video from Republican Voters Against Trump."
          },
          "metadata": {}
        }
      ],
      "source": [
        "# Query Qdrant for top three responses\n",
        "current_president_qa_info.node_print(index=\"qdrant\", preview_count=3)"
      ]
    },
    {
      "cell_type": "markdown",
      "source": [
        "### Observation\n",
        "* Note that the previews of 3 of the 10 vector store responses include one with a reference to Joe Biden in 2022 which helps explain why this query can answer the question correctly.\n"
      ],
      "metadata": {
        "id": "mVAAzvCaG9_F"
      }
    },
    {
      "cell_type": "code",
      "source": [],
      "metadata": {
        "id": "qMVava3hL4hK"
      },
      "execution_count": null,
      "outputs": []
    },
    {
      "cell_type": "code",
      "execution_count": 43,
      "metadata": {
        "colab": {
          "base_uri": "https://localhost:8080/",
          "height": 64
        },
        "id": "y4Ha8MOZVf8H",
        "outputId": "41609689-635e-4e07-c374-359b82c912ad"
      },
      "outputs": [
        {
          "output_type": "display_data",
          "data": {
            "text/markdown": "- Under the category:\nPOLITICS:\nGOP Senators Refuse To Rule Out Supporting Donald Trump Again — Even If He's Indicted\nWith the ex-president reportedly under criminal investigation, many Senate Republicans are taking a wait-and-hope-it-doesn’t-happen stance."
          },
          "metadata": {}
        }
      ],
      "source": [
        "# Query for most recent with recency query engine\n",
        "current_president_qa_info.node_print(index=\"recency\", preview_count=1)"
      ]
    },
    {
      "cell_type": "markdown",
      "source": [
        "### Observation\n",
        "* Note that the Recency response preview does not include a reference to President Joe Biden in 2022 which helps explain why this query engine could not answer the question.\n",
        "* It is apparent the the Recency query engine is not a good selection if the question needs to retrieve data from a specific past year."
      ],
      "metadata": {
        "id": "zo0K1GOqJQye"
      }
    },
    {
      "cell_type": "code",
      "execution_count": 44,
      "metadata": {
        "colab": {
          "base_uri": "https://localhost:8080/",
          "height": 145
        },
        "id": "ONDVDyNnVf8H",
        "outputId": "ad29cd2d-1cf1-4d7d-8247-825becb927a9"
      },
      "outputs": [
        {
          "output_type": "display_data",
          "data": {
            "text/markdown": "- Under the category:\nPOLITICS:\nBiden To Give First State Of The Union Address At Fraught Moment\nPresident Joe Biden aims to navigate the country out a pandemic, reboot his stalled domestic agenda and confront Russia’s aggression."
          },
          "metadata": {}
        },
        {
          "output_type": "display_data",
          "data": {
            "text/markdown": "- Under the category:\nPOLITICS:\nJoe Biden Says He 'Can't Picture' U.S. Troops Being In Afghanistan In 2022\nThe president doubled down on his promise to end America's longest-running war at a Thursday press conference, though he said a May 1 deadline seemed unlikely."
          },
          "metadata": {}
        },
        {
          "output_type": "display_data",
          "data": {
            "text/markdown": "- Under the category:\nPOLITICS:\nFed's Powell Will Aim To Win A High-Stakes Bet In 2nd Term\nPresident Joe Biden on Monday picked Federal Reserve Chair Jerome Powell for another four-year term."
          },
          "metadata": {}
        }
      ],
      "source": [
        "# Query the Chere top ten candidates re-ordered to give the top three\n",
        "current_president_qa_info.node_print(index=\"reranking\", preview_count=3)"
      ]
    },
    {
      "cell_type": "markdown",
      "source": [
        "### Observation\n",
        "* The previews of the Cohere Reranking query engine responses include a reference to President Joe Biden in 2022 which helps explain why this query engine can answer the question correctly."
      ],
      "metadata": {
        "id": "fT9RjnW9KCpd"
      }
    },
    {
      "cell_type": "markdown",
      "source": [],
      "metadata": {
        "id": "y09R08MhMevL"
      }
    },
    {
      "cell_type": "markdown",
      "metadata": {
        "id": "9Mp037VJVf8I"
      },
      "source": [
        "### Submit a different question with the temporal information in a different format"
      ]
    },
    {
      "cell_type": "code",
      "execution_count": 46,
      "metadata": {
        "colab": {
          "base_uri": "https://localhost:8080/",
          "height": 176
        },
        "id": "OdktDSSyVf8I",
        "outputId": "0bd18e23-7948-4c96-c668-354cf839483f"
      },
      "outputs": [
        {
          "output_type": "display_data",
          "data": {
            "text/markdown": "### Question: Who was the Finance Minister of India under Manmohan Singh Govt?"
          },
          "metadata": {}
        },
        {
          "output_type": "display_data",
          "data": {
            "text/markdown": "**Qdrant**: The Finance Minister of India under the Manmohan Singh government was P. Chidambaram."
          },
          "metadata": {}
        },
        {
          "output_type": "display_data",
          "data": {
            "text/markdown": "**Recency**: P. Chidambaram was the Finance Minister of India under the Manmohan Singh government."
          },
          "metadata": {}
        },
        {
          "output_type": "display_data",
          "data": {
            "text/markdown": "**Reranking**: There is no information provided in the context about the Finance Minister of India under the Manmohan Singh government."
          },
          "metadata": {}
        },
        {
          "output_type": "display_data",
          "data": {
            "text/markdown": "**Both**: P. Chidambaram"
          },
          "metadata": {}
        },
        {
          "output_type": "display_data",
          "data": {
            "text/markdown": "Correct Answer is: P. Chidambaram"
          },
          "metadata": {}
        }
      ],
      "source": [
        "# Define a different question and answer pair\n",
        "question = \"Who was the Finance Minister of India under Manmohan Singh Govt?\"\n",
        "correct_answer = \"P. Chidambaram\"  # This would normally be determined programmatically.\n",
        "prime_minister_jan2014 = QAInfo(question=question, correct_answer=correct_answer, query_engines=query_engines)\n",
        "prime_minister_jan2014.compare_responses()"
      ]
    },
    {
      "cell_type": "markdown",
      "source": [
        "### Observations\n",
        "* Note that all query engines with the exception of the Cohere reranking engine returned the correct answer.\n"
      ],
      "metadata": {
        "id": "Aio8SlMJMrhk"
      }
    },
    {
      "cell_type": "markdown",
      "metadata": {
        "id": "faP2hnGSVf8I"
      },
      "source": [
        "### Observation\n",
        "\n",
        "In this question: All the engines give the correct answer!\n",
        "\n",
        "This is despite the fact that the Recency Postprocessor response does not even talk about the Indian Prime Minister! ❌\n",
        "\n",
        "Qdrant via OpenAI Embeddings and Cohere Rerank do not do that much better\n",
        "\n",
        "The correct answer comes from OpenAI LLM's knowledge of the world!"
      ]
    },
    {
      "cell_type": "code",
      "execution_count": 47,
      "metadata": {
        "colab": {
          "base_uri": "https://localhost:8080/",
          "height": 447
        },
        "id": "iYHzfhOPVf8I",
        "outputId": "d211d499-585c-4189-8a2d-721050f38adc"
      },
      "outputs": [
        {
          "output_type": "display_data",
          "data": {
            "text/markdown": "- Under the category:\nPOLITICS:\nRobbing Main Street to Prop Up Wall Street:  Why Jerry Brown's Rainy Day Fund Is a Bad Idea\nThere is no need to sequester funds urgently needed by Main Street to pay for Wall Street's malfeasance. Californians can have their cake and eat it too - with a state-owned bank."
          },
          "metadata": {}
        },
        {
          "output_type": "display_data",
          "data": {
            "text/markdown": "- Under the category:\nWORLDPOST:\nCities Need To Get Smarter -- And India's On It"
          },
          "metadata": {}
        },
        {
          "output_type": "display_data",
          "data": {
            "text/markdown": "- Under the category:\nWORLD NEWS:\nArundhati Roy's New Novel Lays India Bare, Unveiling Worlds Within Our Worlds\nMalavika Binny, Jawaharlal Nehru University Wearing two hats at once can be an uncomfortable fit, but it does not seem to"
          },
          "metadata": {}
        },
        {
          "output_type": "display_data",
          "data": {
            "text/markdown": "- Under the category:\nPOLITICS:\nThe World Bank Must Commit to Food Security\nMuch will be said about bringing roads, electricity and infrastructure to underdeveloped regions. But how committed is the World Bank to the planet as a whole when it is doling out its loans?"
          },
          "metadata": {}
        },
        {
          "output_type": "display_data",
          "data": {
            "text/markdown": "- Under the category:\nPOLITICS:\nIt Takes Just 4 Charts To Show A Big Part Of What's Wrong With Congress"
          },
          "metadata": {}
        },
        {
          "output_type": "display_data",
          "data": {
            "text/markdown": "- Under the category:\nTHE WORLDPOST:\nGreece Demands IMF Explain 'Disaster' Remarks In Explosive Leak\nA letter from Greek prime minister Alexis Tsipras questions whether the country \"can trust\" the lender."
          },
          "metadata": {}
        },
        {
          "output_type": "display_data",
          "data": {
            "text/markdown": "- Under the category:\nWORLD NEWS:\nThe Race To Replace Boris Johnson As Prime Minister Is Down To These 2 Candidates\nOn Sept. 5, either Rishi Sunak or Liz Truss will be announced as the U.K.'s new prime minister."
          },
          "metadata": {}
        },
        {
          "output_type": "display_data",
          "data": {
            "text/markdown": "- Under the category:\nPOLITICS:\nShortchanging Our Own Future\nTo win the future, we should be providing incentives to encourage our youths to pursue professional careers that are suffering from labor shortages, instead of making education more costly and taxing for them."
          },
          "metadata": {}
        },
        {
          "output_type": "display_data",
          "data": {
            "text/markdown": "- Under the category:\nWORLDPOST:\nThe Limits of Ideology: Lessons from Singapore\nNext year will see the 50th anniversary of the creating of Singapore, widely hailed as one of the most successful of the Asian tigers. In that short space of time, the tiny nation state has grown into one of the world's largest financial cities."
          },
          "metadata": {}
        },
        {
          "output_type": "display_data",
          "data": {
            "text/markdown": "- Under the category:\nPOLITICS:\nElecting to Support Our Economy\nEither we can choose to elect those who have proven themselves to have the courage and the foresight to make decisions with the long-term benefit of working people in mind, or we can elect those who are too shortsighted and too captive to special interests to make the calls that will help our nation thrive."
          },
          "metadata": {}
        }
      ],
      "source": [
        "# Vector Store query\n",
        "prime_minister_jan2014.node_print(index=\"qdrant\", preview_count=10)"
      ]
    },
    {
      "cell_type": "markdown",
      "source": [
        "### Observation\n",
        "* The Qdrant vector store preview of the top 10 results does not include any reference to the Indian Prime Minister.  \n",
        "* OpenAI answered this question based on it's general world knowledge.   "
      ],
      "metadata": {
        "id": "KCCgOCpqP4b9"
      }
    },
    {
      "cell_type": "code",
      "execution_count": 48,
      "metadata": {
        "colab": {
          "base_uri": "https://localhost:8080/",
          "height": 64
        },
        "id": "4ILPLG3kVf8I",
        "outputId": "3933a00e-5ad2-43d9-f6f4-fecbd1762e71"
      },
      "outputs": [
        {
          "output_type": "display_data",
          "data": {
            "text/markdown": "- Under the category:\nWORLD NEWS:\nThe Race To Replace Boris Johnson As Prime Minister Is Down To These 2 Candidates\nOn Sept. 5, either Rishi Sunak or Liz Truss will be announced as the U.K.'s new prime minister."
          },
          "metadata": {}
        }
      ],
      "source": [
        "# Query for most recent\n",
        "prime_minister_jan2014.node_print(index=\"recency\", preview_count=1)"
      ]
    },
    {
      "cell_type": "markdown",
      "source": [
        "### Observation\n",
        "* Despite no mention of the Indian Prime Minister in the preview, OpenAI answered the question based on it's general world knowledge."
      ],
      "metadata": {
        "id": "VjmcWFJgSGbN"
      }
    },
    {
      "cell_type": "code",
      "execution_count": 49,
      "metadata": {
        "colab": {
          "base_uri": "https://localhost:8080/",
          "height": 447
        },
        "id": "HV5BK24XVf8I",
        "outputId": "b65b2010-5127-4fa3-dd63-b97d2db121b8"
      },
      "outputs": [
        {
          "output_type": "display_data",
          "data": {
            "text/markdown": "- Under the category:\nWORLDPOST:\nThe Limits of Ideology: Lessons from Singapore\nNext year will see the 50th anniversary of the creating of Singapore, widely hailed as one of the most successful of the Asian tigers. In that short space of time, the tiny nation state has grown into one of the world's largest financial cities."
          },
          "metadata": {}
        },
        {
          "output_type": "display_data",
          "data": {
            "text/markdown": "- Under the category:\nPOLITICS:\nElecting to Support Our Economy\nEither we can choose to elect those who have proven themselves to have the courage and the foresight to make decisions with the long-term benefit of working people in mind, or we can elect those who are too shortsighted and too captive to special interests to make the calls that will help our nation thrive."
          },
          "metadata": {}
        },
        {
          "output_type": "display_data",
          "data": {
            "text/markdown": "- Under the category:\nWORLD NEWS:\nArundhati Roy's New Novel Lays India Bare, Unveiling Worlds Within Our Worlds\nMalavika Binny, Jawaharlal Nehru University Wearing two hats at once can be an uncomfortable fit, but it does not seem to"
          },
          "metadata": {}
        },
        {
          "output_type": "display_data",
          "data": {
            "text/markdown": "- Under the category:\nPOLITICS:\nShortchanging Our Own Future\nTo win the future, we should be providing incentives to encourage our youths to pursue professional careers that are suffering from labor shortages, instead of making education more costly and taxing for them."
          },
          "metadata": {}
        },
        {
          "output_type": "display_data",
          "data": {
            "text/markdown": "- Under the category:\nPOLITICS:\nIt Takes Just 4 Charts To Show A Big Part Of What's Wrong With Congress"
          },
          "metadata": {}
        },
        {
          "output_type": "display_data",
          "data": {
            "text/markdown": "- Under the category:\nWORLDPOST:\nCities Need To Get Smarter -- And India's On It"
          },
          "metadata": {}
        },
        {
          "output_type": "display_data",
          "data": {
            "text/markdown": "- Under the category:\nPOLITICS:\nThe World Bank Must Commit to Food Security\nMuch will be said about bringing roads, electricity and infrastructure to underdeveloped regions. But how committed is the World Bank to the planet as a whole when it is doling out its loans?"
          },
          "metadata": {}
        },
        {
          "output_type": "display_data",
          "data": {
            "text/markdown": "- Under the category:\nPOLITICS:\nRobbing Main Street to Prop Up Wall Street:  Why Jerry Brown's Rainy Day Fund Is a Bad Idea\nThere is no need to sequester funds urgently needed by Main Street to pay for Wall Street's malfeasance. Californians can have their cake and eat it too - with a state-owned bank."
          },
          "metadata": {}
        },
        {
          "output_type": "display_data",
          "data": {
            "text/markdown": "- Under the category:\nTHE WORLDPOST:\nGreece Demands IMF Explain 'Disaster' Remarks In Explosive Leak\nA letter from Greek prime minister Alexis Tsipras questions whether the country \"can trust\" the lender."
          },
          "metadata": {}
        },
        {
          "output_type": "display_data",
          "data": {
            "text/markdown": "- Under the category:\nWORLD NEWS:\nThe Race To Replace Boris Johnson As Prime Minister Is Down To These 2 Candidates\nOn Sept. 5, either Rishi Sunak or Liz Truss will be announced as the U.K.'s new prime minister."
          },
          "metadata": {}
        }
      ],
      "source": [
        "# Query with Cohere reranking\n",
        "prime_minister_jan2014.node_print(index=\"reranking\", preview_count=10)"
      ]
    },
    {
      "cell_type": "markdown",
      "source": [
        "### Observations\n",
        "* The Cohere Reranking of the top ten responses does not include any mention of the Indian Prime Minister.\n",
        "* OpenAI answered this question based on it's general world knowledge."
      ],
      "metadata": {
        "id": "bWarIFEYSwLd"
      }
    },
    {
      "cell_type": "markdown",
      "metadata": {
        "id": "KG48ZZzD4OpX"
      },
      "source": [
        "### Conclusions\n",
        "\n",
        "* A news dataset was downloaded and a Q&A bot was built with Qdrant and LlamaIndex.\n",
        "\n",
        "* A Recency postprocessor, Cohere Reranking postprocessor, and a combined Recency plus Cohere Reranking postprocessor were added.\n",
        "\n",
        "* The Recency postprocessor may not be a good choice if data from a specific year is needed as the postprocessor was unable to answer those questions.\n",
        "\n",
        "* OpenAI answered questions from it's general world knowledge when the data was not available from the vector store."
      ]
    }
  ],
  "metadata": {
    "accelerator": "GPU",
    "colab": {
      "gpuType": "T4",
      "provenance": []
    },
    "kernelspec": {
      "display_name": "Python 3 (ipykernel)",
      "language": "python",
      "name": "python3"
    },
    "language_info": {
      "codemirror_mode": {
        "name": "ipython",
        "version": 3
      },
      "file_extension": ".py",
      "mimetype": "text/x-python",
      "name": "python",
      "nbconvert_exporter": "python",
      "pygments_lexer": "ipython3",
      "version": "3.11.5"
    },
    "widgets": {
      "application/vnd.jupyter.widget-state+json": {
        "0a1d432f9c484ebcbef876762ccc2cf1": {
          "model_module": "@jupyter-widgets/controls",
          "model_name": "HBoxModel",
          "model_module_version": "1.5.0",
          "state": {
            "_dom_classes": [],
            "_model_module": "@jupyter-widgets/controls",
            "_model_module_version": "1.5.0",
            "_model_name": "HBoxModel",
            "_view_count": null,
            "_view_module": "@jupyter-widgets/controls",
            "_view_module_version": "1.5.0",
            "_view_name": "HBoxView",
            "box_style": "",
            "children": [
              "IPY_MODEL_56025c8e582c4cc88d58dbbc6054ec4a",
              "IPY_MODEL_43da2682cf7f48c2b484615d70635be4",
              "IPY_MODEL_5bec1fa4261b4c0aa6bbc81f0a0c2abe"
            ],
            "layout": "IPY_MODEL_e169ba2e1f0d45c2b71ae4daed19c5f7"
          }
        },
        "56025c8e582c4cc88d58dbbc6054ec4a": {
          "model_module": "@jupyter-widgets/controls",
          "model_name": "HTMLModel",
          "model_module_version": "1.5.0",
          "state": {
            "_dom_classes": [],
            "_model_module": "@jupyter-widgets/controls",
            "_model_module_version": "1.5.0",
            "_model_name": "HTMLModel",
            "_view_count": null,
            "_view_module": "@jupyter-widgets/controls",
            "_view_module_version": "1.5.0",
            "_view_name": "HTMLView",
            "description": "",
            "description_tooltip": null,
            "layout": "IPY_MODEL_cc0d49577c6c45ecbce83917458aa67f",
            "placeholder": "​",
            "style": "IPY_MODEL_d9a756aefeb245fb8c8ce3b9f96f846f",
            "value": "Downloading readme: 100%"
          }
        },
        "43da2682cf7f48c2b484615d70635be4": {
          "model_module": "@jupyter-widgets/controls",
          "model_name": "FloatProgressModel",
          "model_module_version": "1.5.0",
          "state": {
            "_dom_classes": [],
            "_model_module": "@jupyter-widgets/controls",
            "_model_module_version": "1.5.0",
            "_model_name": "FloatProgressModel",
            "_view_count": null,
            "_view_module": "@jupyter-widgets/controls",
            "_view_module_version": "1.5.0",
            "_view_name": "ProgressView",
            "bar_style": "success",
            "description": "",
            "description_tooltip": null,
            "layout": "IPY_MODEL_43b204fa2bf544da8c12534867ad6609",
            "max": 101,
            "min": 0,
            "orientation": "horizontal",
            "style": "IPY_MODEL_df508e8db91c4d2e869203946485e8d5",
            "value": 101
          }
        },
        "5bec1fa4261b4c0aa6bbc81f0a0c2abe": {
          "model_module": "@jupyter-widgets/controls",
          "model_name": "HTMLModel",
          "model_module_version": "1.5.0",
          "state": {
            "_dom_classes": [],
            "_model_module": "@jupyter-widgets/controls",
            "_model_module_version": "1.5.0",
            "_model_name": "HTMLModel",
            "_view_count": null,
            "_view_module": "@jupyter-widgets/controls",
            "_view_module_version": "1.5.0",
            "_view_name": "HTMLView",
            "description": "",
            "description_tooltip": null,
            "layout": "IPY_MODEL_1d779f2c39df401aa9d5f6fa4d8c2269",
            "placeholder": "​",
            "style": "IPY_MODEL_8bdc302b3dea4db59922ebf71f403d15",
            "value": " 101/101 [00:00&lt;00:00, 3.15kB/s]"
          }
        },
        "e169ba2e1f0d45c2b71ae4daed19c5f7": {
          "model_module": "@jupyter-widgets/base",
          "model_name": "LayoutModel",
          "model_module_version": "1.2.0",
          "state": {
            "_model_module": "@jupyter-widgets/base",
            "_model_module_version": "1.2.0",
            "_model_name": "LayoutModel",
            "_view_count": null,
            "_view_module": "@jupyter-widgets/base",
            "_view_module_version": "1.2.0",
            "_view_name": "LayoutView",
            "align_content": null,
            "align_items": null,
            "align_self": null,
            "border": null,
            "bottom": null,
            "display": null,
            "flex": null,
            "flex_flow": null,
            "grid_area": null,
            "grid_auto_columns": null,
            "grid_auto_flow": null,
            "grid_auto_rows": null,
            "grid_column": null,
            "grid_gap": null,
            "grid_row": null,
            "grid_template_areas": null,
            "grid_template_columns": null,
            "grid_template_rows": null,
            "height": null,
            "justify_content": null,
            "justify_items": null,
            "left": null,
            "margin": null,
            "max_height": null,
            "max_width": null,
            "min_height": null,
            "min_width": null,
            "object_fit": null,
            "object_position": null,
            "order": null,
            "overflow": null,
            "overflow_x": null,
            "overflow_y": null,
            "padding": null,
            "right": null,
            "top": null,
            "visibility": null,
            "width": null
          }
        },
        "cc0d49577c6c45ecbce83917458aa67f": {
          "model_module": "@jupyter-widgets/base",
          "model_name": "LayoutModel",
          "model_module_version": "1.2.0",
          "state": {
            "_model_module": "@jupyter-widgets/base",
            "_model_module_version": "1.2.0",
            "_model_name": "LayoutModel",
            "_view_count": null,
            "_view_module": "@jupyter-widgets/base",
            "_view_module_version": "1.2.0",
            "_view_name": "LayoutView",
            "align_content": null,
            "align_items": null,
            "align_self": null,
            "border": null,
            "bottom": null,
            "display": null,
            "flex": null,
            "flex_flow": null,
            "grid_area": null,
            "grid_auto_columns": null,
            "grid_auto_flow": null,
            "grid_auto_rows": null,
            "grid_column": null,
            "grid_gap": null,
            "grid_row": null,
            "grid_template_areas": null,
            "grid_template_columns": null,
            "grid_template_rows": null,
            "height": null,
            "justify_content": null,
            "justify_items": null,
            "left": null,
            "margin": null,
            "max_height": null,
            "max_width": null,
            "min_height": null,
            "min_width": null,
            "object_fit": null,
            "object_position": null,
            "order": null,
            "overflow": null,
            "overflow_x": null,
            "overflow_y": null,
            "padding": null,
            "right": null,
            "top": null,
            "visibility": null,
            "width": null
          }
        },
        "d9a756aefeb245fb8c8ce3b9f96f846f": {
          "model_module": "@jupyter-widgets/controls",
          "model_name": "DescriptionStyleModel",
          "model_module_version": "1.5.0",
          "state": {
            "_model_module": "@jupyter-widgets/controls",
            "_model_module_version": "1.5.0",
            "_model_name": "DescriptionStyleModel",
            "_view_count": null,
            "_view_module": "@jupyter-widgets/base",
            "_view_module_version": "1.2.0",
            "_view_name": "StyleView",
            "description_width": ""
          }
        },
        "43b204fa2bf544da8c12534867ad6609": {
          "model_module": "@jupyter-widgets/base",
          "model_name": "LayoutModel",
          "model_module_version": "1.2.0",
          "state": {
            "_model_module": "@jupyter-widgets/base",
            "_model_module_version": "1.2.0",
            "_model_name": "LayoutModel",
            "_view_count": null,
            "_view_module": "@jupyter-widgets/base",
            "_view_module_version": "1.2.0",
            "_view_name": "LayoutView",
            "align_content": null,
            "align_items": null,
            "align_self": null,
            "border": null,
            "bottom": null,
            "display": null,
            "flex": null,
            "flex_flow": null,
            "grid_area": null,
            "grid_auto_columns": null,
            "grid_auto_flow": null,
            "grid_auto_rows": null,
            "grid_column": null,
            "grid_gap": null,
            "grid_row": null,
            "grid_template_areas": null,
            "grid_template_columns": null,
            "grid_template_rows": null,
            "height": null,
            "justify_content": null,
            "justify_items": null,
            "left": null,
            "margin": null,
            "max_height": null,
            "max_width": null,
            "min_height": null,
            "min_width": null,
            "object_fit": null,
            "object_position": null,
            "order": null,
            "overflow": null,
            "overflow_x": null,
            "overflow_y": null,
            "padding": null,
            "right": null,
            "top": null,
            "visibility": null,
            "width": null
          }
        },
        "df508e8db91c4d2e869203946485e8d5": {
          "model_module": "@jupyter-widgets/controls",
          "model_name": "ProgressStyleModel",
          "model_module_version": "1.5.0",
          "state": {
            "_model_module": "@jupyter-widgets/controls",
            "_model_module_version": "1.5.0",
            "_model_name": "ProgressStyleModel",
            "_view_count": null,
            "_view_module": "@jupyter-widgets/base",
            "_view_module_version": "1.2.0",
            "_view_name": "StyleView",
            "bar_color": null,
            "description_width": ""
          }
        },
        "1d779f2c39df401aa9d5f6fa4d8c2269": {
          "model_module": "@jupyter-widgets/base",
          "model_name": "LayoutModel",
          "model_module_version": "1.2.0",
          "state": {
            "_model_module": "@jupyter-widgets/base",
            "_model_module_version": "1.2.0",
            "_model_name": "LayoutModel",
            "_view_count": null,
            "_view_module": "@jupyter-widgets/base",
            "_view_module_version": "1.2.0",
            "_view_name": "LayoutView",
            "align_content": null,
            "align_items": null,
            "align_self": null,
            "border": null,
            "bottom": null,
            "display": null,
            "flex": null,
            "flex_flow": null,
            "grid_area": null,
            "grid_auto_columns": null,
            "grid_auto_flow": null,
            "grid_auto_rows": null,
            "grid_column": null,
            "grid_gap": null,
            "grid_row": null,
            "grid_template_areas": null,
            "grid_template_columns": null,
            "grid_template_rows": null,
            "height": null,
            "justify_content": null,
            "justify_items": null,
            "left": null,
            "margin": null,
            "max_height": null,
            "max_width": null,
            "min_height": null,
            "min_width": null,
            "object_fit": null,
            "object_position": null,
            "order": null,
            "overflow": null,
            "overflow_x": null,
            "overflow_y": null,
            "padding": null,
            "right": null,
            "top": null,
            "visibility": null,
            "width": null
          }
        },
        "8bdc302b3dea4db59922ebf71f403d15": {
          "model_module": "@jupyter-widgets/controls",
          "model_name": "DescriptionStyleModel",
          "model_module_version": "1.5.0",
          "state": {
            "_model_module": "@jupyter-widgets/controls",
            "_model_module_version": "1.5.0",
            "_model_name": "DescriptionStyleModel",
            "_view_count": null,
            "_view_module": "@jupyter-widgets/base",
            "_view_module_version": "1.2.0",
            "_view_name": "StyleView",
            "description_width": ""
          }
        },
        "8e8e6d58c9e14c349a90d66b4d56a419": {
          "model_module": "@jupyter-widgets/controls",
          "model_name": "HBoxModel",
          "model_module_version": "1.5.0",
          "state": {
            "_dom_classes": [],
            "_model_module": "@jupyter-widgets/controls",
            "_model_module_version": "1.5.0",
            "_model_name": "HBoxModel",
            "_view_count": null,
            "_view_module": "@jupyter-widgets/controls",
            "_view_module_version": "1.5.0",
            "_view_name": "HBoxView",
            "box_style": "",
            "children": [
              "IPY_MODEL_3a96cd26297146c0a4fc77d47187bf40",
              "IPY_MODEL_ac607d7fbcca43879d12573a069b9c02",
              "IPY_MODEL_dd129ab7214341c6be4be2843bd93f64"
            ],
            "layout": "IPY_MODEL_b4aa522f09484596ab342e49e1862ee5"
          }
        },
        "3a96cd26297146c0a4fc77d47187bf40": {
          "model_module": "@jupyter-widgets/controls",
          "model_name": "HTMLModel",
          "model_module_version": "1.5.0",
          "state": {
            "_dom_classes": [],
            "_model_module": "@jupyter-widgets/controls",
            "_model_module_version": "1.5.0",
            "_model_name": "HTMLModel",
            "_view_count": null,
            "_view_module": "@jupyter-widgets/controls",
            "_view_module_version": "1.5.0",
            "_view_name": "HTMLView",
            "description": "",
            "description_tooltip": null,
            "layout": "IPY_MODEL_c13c5636f6f04888aa1adecbee394415",
            "placeholder": "​",
            "style": "IPY_MODEL_ad5b247b2ab2422d898951d375164cb1",
            "value": "Downloading data: 100%"
          }
        },
        "ac607d7fbcca43879d12573a069b9c02": {
          "model_module": "@jupyter-widgets/controls",
          "model_name": "FloatProgressModel",
          "model_module_version": "1.5.0",
          "state": {
            "_dom_classes": [],
            "_model_module": "@jupyter-widgets/controls",
            "_model_module_version": "1.5.0",
            "_model_name": "FloatProgressModel",
            "_view_count": null,
            "_view_module": "@jupyter-widgets/controls",
            "_view_module_version": "1.5.0",
            "_view_name": "ProgressView",
            "bar_style": "success",
            "description": "",
            "description_tooltip": null,
            "layout": "IPY_MODEL_ac98b128bc5244879e6df04bae5d704e",
            "max": 87295572,
            "min": 0,
            "orientation": "horizontal",
            "style": "IPY_MODEL_edd65d8e82064a27a1282886d78a92b2",
            "value": 87295572
          }
        },
        "dd129ab7214341c6be4be2843bd93f64": {
          "model_module": "@jupyter-widgets/controls",
          "model_name": "HTMLModel",
          "model_module_version": "1.5.0",
          "state": {
            "_dom_classes": [],
            "_model_module": "@jupyter-widgets/controls",
            "_model_module_version": "1.5.0",
            "_model_name": "HTMLModel",
            "_view_count": null,
            "_view_module": "@jupyter-widgets/controls",
            "_view_module_version": "1.5.0",
            "_view_name": "HTMLView",
            "description": "",
            "description_tooltip": null,
            "layout": "IPY_MODEL_cd3e646245d64120bbdc66fe3ebed1ba",
            "placeholder": "​",
            "style": "IPY_MODEL_ac2d4eda2b174356836bf8ef53ad03f4",
            "value": " 87.3M/87.3M [00:03&lt;00:00, 41.4MB/s]"
          }
        },
        "b4aa522f09484596ab342e49e1862ee5": {
          "model_module": "@jupyter-widgets/base",
          "model_name": "LayoutModel",
          "model_module_version": "1.2.0",
          "state": {
            "_model_module": "@jupyter-widgets/base",
            "_model_module_version": "1.2.0",
            "_model_name": "LayoutModel",
            "_view_count": null,
            "_view_module": "@jupyter-widgets/base",
            "_view_module_version": "1.2.0",
            "_view_name": "LayoutView",
            "align_content": null,
            "align_items": null,
            "align_self": null,
            "border": null,
            "bottom": null,
            "display": null,
            "flex": null,
            "flex_flow": null,
            "grid_area": null,
            "grid_auto_columns": null,
            "grid_auto_flow": null,
            "grid_auto_rows": null,
            "grid_column": null,
            "grid_gap": null,
            "grid_row": null,
            "grid_template_areas": null,
            "grid_template_columns": null,
            "grid_template_rows": null,
            "height": null,
            "justify_content": null,
            "justify_items": null,
            "left": null,
            "margin": null,
            "max_height": null,
            "max_width": null,
            "min_height": null,
            "min_width": null,
            "object_fit": null,
            "object_position": null,
            "order": null,
            "overflow": null,
            "overflow_x": null,
            "overflow_y": null,
            "padding": null,
            "right": null,
            "top": null,
            "visibility": null,
            "width": null
          }
        },
        "c13c5636f6f04888aa1adecbee394415": {
          "model_module": "@jupyter-widgets/base",
          "model_name": "LayoutModel",
          "model_module_version": "1.2.0",
          "state": {
            "_model_module": "@jupyter-widgets/base",
            "_model_module_version": "1.2.0",
            "_model_name": "LayoutModel",
            "_view_count": null,
            "_view_module": "@jupyter-widgets/base",
            "_view_module_version": "1.2.0",
            "_view_name": "LayoutView",
            "align_content": null,
            "align_items": null,
            "align_self": null,
            "border": null,
            "bottom": null,
            "display": null,
            "flex": null,
            "flex_flow": null,
            "grid_area": null,
            "grid_auto_columns": null,
            "grid_auto_flow": null,
            "grid_auto_rows": null,
            "grid_column": null,
            "grid_gap": null,
            "grid_row": null,
            "grid_template_areas": null,
            "grid_template_columns": null,
            "grid_template_rows": null,
            "height": null,
            "justify_content": null,
            "justify_items": null,
            "left": null,
            "margin": null,
            "max_height": null,
            "max_width": null,
            "min_height": null,
            "min_width": null,
            "object_fit": null,
            "object_position": null,
            "order": null,
            "overflow": null,
            "overflow_x": null,
            "overflow_y": null,
            "padding": null,
            "right": null,
            "top": null,
            "visibility": null,
            "width": null
          }
        },
        "ad5b247b2ab2422d898951d375164cb1": {
          "model_module": "@jupyter-widgets/controls",
          "model_name": "DescriptionStyleModel",
          "model_module_version": "1.5.0",
          "state": {
            "_model_module": "@jupyter-widgets/controls",
            "_model_module_version": "1.5.0",
            "_model_name": "DescriptionStyleModel",
            "_view_count": null,
            "_view_module": "@jupyter-widgets/base",
            "_view_module_version": "1.2.0",
            "_view_name": "StyleView",
            "description_width": ""
          }
        },
        "ac98b128bc5244879e6df04bae5d704e": {
          "model_module": "@jupyter-widgets/base",
          "model_name": "LayoutModel",
          "model_module_version": "1.2.0",
          "state": {
            "_model_module": "@jupyter-widgets/base",
            "_model_module_version": "1.2.0",
            "_model_name": "LayoutModel",
            "_view_count": null,
            "_view_module": "@jupyter-widgets/base",
            "_view_module_version": "1.2.0",
            "_view_name": "LayoutView",
            "align_content": null,
            "align_items": null,
            "align_self": null,
            "border": null,
            "bottom": null,
            "display": null,
            "flex": null,
            "flex_flow": null,
            "grid_area": null,
            "grid_auto_columns": null,
            "grid_auto_flow": null,
            "grid_auto_rows": null,
            "grid_column": null,
            "grid_gap": null,
            "grid_row": null,
            "grid_template_areas": null,
            "grid_template_columns": null,
            "grid_template_rows": null,
            "height": null,
            "justify_content": null,
            "justify_items": null,
            "left": null,
            "margin": null,
            "max_height": null,
            "max_width": null,
            "min_height": null,
            "min_width": null,
            "object_fit": null,
            "object_position": null,
            "order": null,
            "overflow": null,
            "overflow_x": null,
            "overflow_y": null,
            "padding": null,
            "right": null,
            "top": null,
            "visibility": null,
            "width": null
          }
        },
        "edd65d8e82064a27a1282886d78a92b2": {
          "model_module": "@jupyter-widgets/controls",
          "model_name": "ProgressStyleModel",
          "model_module_version": "1.5.0",
          "state": {
            "_model_module": "@jupyter-widgets/controls",
            "_model_module_version": "1.5.0",
            "_model_name": "ProgressStyleModel",
            "_view_count": null,
            "_view_module": "@jupyter-widgets/base",
            "_view_module_version": "1.2.0",
            "_view_name": "StyleView",
            "bar_color": null,
            "description_width": ""
          }
        },
        "cd3e646245d64120bbdc66fe3ebed1ba": {
          "model_module": "@jupyter-widgets/base",
          "model_name": "LayoutModel",
          "model_module_version": "1.2.0",
          "state": {
            "_model_module": "@jupyter-widgets/base",
            "_model_module_version": "1.2.0",
            "_model_name": "LayoutModel",
            "_view_count": null,
            "_view_module": "@jupyter-widgets/base",
            "_view_module_version": "1.2.0",
            "_view_name": "LayoutView",
            "align_content": null,
            "align_items": null,
            "align_self": null,
            "border": null,
            "bottom": null,
            "display": null,
            "flex": null,
            "flex_flow": null,
            "grid_area": null,
            "grid_auto_columns": null,
            "grid_auto_flow": null,
            "grid_auto_rows": null,
            "grid_column": null,
            "grid_gap": null,
            "grid_row": null,
            "grid_template_areas": null,
            "grid_template_columns": null,
            "grid_template_rows": null,
            "height": null,
            "justify_content": null,
            "justify_items": null,
            "left": null,
            "margin": null,
            "max_height": null,
            "max_width": null,
            "min_height": null,
            "min_width": null,
            "object_fit": null,
            "object_position": null,
            "order": null,
            "overflow": null,
            "overflow_x": null,
            "overflow_y": null,
            "padding": null,
            "right": null,
            "top": null,
            "visibility": null,
            "width": null
          }
        },
        "ac2d4eda2b174356836bf8ef53ad03f4": {
          "model_module": "@jupyter-widgets/controls",
          "model_name": "DescriptionStyleModel",
          "model_module_version": "1.5.0",
          "state": {
            "_model_module": "@jupyter-widgets/controls",
            "_model_module_version": "1.5.0",
            "_model_name": "DescriptionStyleModel",
            "_view_count": null,
            "_view_module": "@jupyter-widgets/base",
            "_view_module_version": "1.2.0",
            "_view_name": "StyleView",
            "description_width": ""
          }
        },
        "3fdf7b59690e419bb159ca95c2097fb6": {
          "model_module": "@jupyter-widgets/controls",
          "model_name": "HBoxModel",
          "model_module_version": "1.5.0",
          "state": {
            "_dom_classes": [],
            "_model_module": "@jupyter-widgets/controls",
            "_model_module_version": "1.5.0",
            "_model_name": "HBoxModel",
            "_view_count": null,
            "_view_module": "@jupyter-widgets/controls",
            "_view_module_version": "1.5.0",
            "_view_name": "HBoxView",
            "box_style": "",
            "children": [
              "IPY_MODEL_c7ed334f6892444a9e6c3ffd93f1ddbd",
              "IPY_MODEL_cbfb35ab785e46a49c7de2121b5c9f4f",
              "IPY_MODEL_07d94c8ea8974e64a40e88df3068e34d"
            ],
            "layout": "IPY_MODEL_2fe2bc10a64f434e848a5a4db201292c"
          }
        },
        "c7ed334f6892444a9e6c3ffd93f1ddbd": {
          "model_module": "@jupyter-widgets/controls",
          "model_name": "HTMLModel",
          "model_module_version": "1.5.0",
          "state": {
            "_dom_classes": [],
            "_model_module": "@jupyter-widgets/controls",
            "_model_module_version": "1.5.0",
            "_model_name": "HTMLModel",
            "_view_count": null,
            "_view_module": "@jupyter-widgets/controls",
            "_view_module_version": "1.5.0",
            "_view_name": "HTMLView",
            "description": "",
            "description_tooltip": null,
            "layout": "IPY_MODEL_6bb32a6cff3c476e9de45f9f4ab6bc38",
            "placeholder": "​",
            "style": "IPY_MODEL_f9c72377a01b4b9097785eaab19c3e4b",
            "value": "Generating train split: 100%"
          }
        },
        "cbfb35ab785e46a49c7de2121b5c9f4f": {
          "model_module": "@jupyter-widgets/controls",
          "model_name": "FloatProgressModel",
          "model_module_version": "1.5.0",
          "state": {
            "_dom_classes": [],
            "_model_module": "@jupyter-widgets/controls",
            "_model_module_version": "1.5.0",
            "_model_name": "FloatProgressModel",
            "_view_count": null,
            "_view_module": "@jupyter-widgets/controls",
            "_view_module_version": "1.5.0",
            "_view_name": "ProgressView",
            "bar_style": "success",
            "description": "",
            "description_tooltip": null,
            "layout": "IPY_MODEL_d38ac542f76144059f0ec32867b5aa91",
            "max": 209527,
            "min": 0,
            "orientation": "horizontal",
            "style": "IPY_MODEL_80d7ae6b9f2346ae8fb612fcd563e1e3",
            "value": 209527
          }
        },
        "07d94c8ea8974e64a40e88df3068e34d": {
          "model_module": "@jupyter-widgets/controls",
          "model_name": "HTMLModel",
          "model_module_version": "1.5.0",
          "state": {
            "_dom_classes": [],
            "_model_module": "@jupyter-widgets/controls",
            "_model_module_version": "1.5.0",
            "_model_name": "HTMLModel",
            "_view_count": null,
            "_view_module": "@jupyter-widgets/controls",
            "_view_module_version": "1.5.0",
            "_view_name": "HTMLView",
            "description": "",
            "description_tooltip": null,
            "layout": "IPY_MODEL_63a0143a02964929b28b017a81ba80eb",
            "placeholder": "​",
            "style": "IPY_MODEL_0c9ce3aa628246f8927e5b31d312d005",
            "value": " 209527/209527 [00:00&lt;00:00, 259153.36 examples/s]"
          }
        },
        "2fe2bc10a64f434e848a5a4db201292c": {
          "model_module": "@jupyter-widgets/base",
          "model_name": "LayoutModel",
          "model_module_version": "1.2.0",
          "state": {
            "_model_module": "@jupyter-widgets/base",
            "_model_module_version": "1.2.0",
            "_model_name": "LayoutModel",
            "_view_count": null,
            "_view_module": "@jupyter-widgets/base",
            "_view_module_version": "1.2.0",
            "_view_name": "LayoutView",
            "align_content": null,
            "align_items": null,
            "align_self": null,
            "border": null,
            "bottom": null,
            "display": null,
            "flex": null,
            "flex_flow": null,
            "grid_area": null,
            "grid_auto_columns": null,
            "grid_auto_flow": null,
            "grid_auto_rows": null,
            "grid_column": null,
            "grid_gap": null,
            "grid_row": null,
            "grid_template_areas": null,
            "grid_template_columns": null,
            "grid_template_rows": null,
            "height": null,
            "justify_content": null,
            "justify_items": null,
            "left": null,
            "margin": null,
            "max_height": null,
            "max_width": null,
            "min_height": null,
            "min_width": null,
            "object_fit": null,
            "object_position": null,
            "order": null,
            "overflow": null,
            "overflow_x": null,
            "overflow_y": null,
            "padding": null,
            "right": null,
            "top": null,
            "visibility": null,
            "width": null
          }
        },
        "6bb32a6cff3c476e9de45f9f4ab6bc38": {
          "model_module": "@jupyter-widgets/base",
          "model_name": "LayoutModel",
          "model_module_version": "1.2.0",
          "state": {
            "_model_module": "@jupyter-widgets/base",
            "_model_module_version": "1.2.0",
            "_model_name": "LayoutModel",
            "_view_count": null,
            "_view_module": "@jupyter-widgets/base",
            "_view_module_version": "1.2.0",
            "_view_name": "LayoutView",
            "align_content": null,
            "align_items": null,
            "align_self": null,
            "border": null,
            "bottom": null,
            "display": null,
            "flex": null,
            "flex_flow": null,
            "grid_area": null,
            "grid_auto_columns": null,
            "grid_auto_flow": null,
            "grid_auto_rows": null,
            "grid_column": null,
            "grid_gap": null,
            "grid_row": null,
            "grid_template_areas": null,
            "grid_template_columns": null,
            "grid_template_rows": null,
            "height": null,
            "justify_content": null,
            "justify_items": null,
            "left": null,
            "margin": null,
            "max_height": null,
            "max_width": null,
            "min_height": null,
            "min_width": null,
            "object_fit": null,
            "object_position": null,
            "order": null,
            "overflow": null,
            "overflow_x": null,
            "overflow_y": null,
            "padding": null,
            "right": null,
            "top": null,
            "visibility": null,
            "width": null
          }
        },
        "f9c72377a01b4b9097785eaab19c3e4b": {
          "model_module": "@jupyter-widgets/controls",
          "model_name": "DescriptionStyleModel",
          "model_module_version": "1.5.0",
          "state": {
            "_model_module": "@jupyter-widgets/controls",
            "_model_module_version": "1.5.0",
            "_model_name": "DescriptionStyleModel",
            "_view_count": null,
            "_view_module": "@jupyter-widgets/base",
            "_view_module_version": "1.2.0",
            "_view_name": "StyleView",
            "description_width": ""
          }
        },
        "d38ac542f76144059f0ec32867b5aa91": {
          "model_module": "@jupyter-widgets/base",
          "model_name": "LayoutModel",
          "model_module_version": "1.2.0",
          "state": {
            "_model_module": "@jupyter-widgets/base",
            "_model_module_version": "1.2.0",
            "_model_name": "LayoutModel",
            "_view_count": null,
            "_view_module": "@jupyter-widgets/base",
            "_view_module_version": "1.2.0",
            "_view_name": "LayoutView",
            "align_content": null,
            "align_items": null,
            "align_self": null,
            "border": null,
            "bottom": null,
            "display": null,
            "flex": null,
            "flex_flow": null,
            "grid_area": null,
            "grid_auto_columns": null,
            "grid_auto_flow": null,
            "grid_auto_rows": null,
            "grid_column": null,
            "grid_gap": null,
            "grid_row": null,
            "grid_template_areas": null,
            "grid_template_columns": null,
            "grid_template_rows": null,
            "height": null,
            "justify_content": null,
            "justify_items": null,
            "left": null,
            "margin": null,
            "max_height": null,
            "max_width": null,
            "min_height": null,
            "min_width": null,
            "object_fit": null,
            "object_position": null,
            "order": null,
            "overflow": null,
            "overflow_x": null,
            "overflow_y": null,
            "padding": null,
            "right": null,
            "top": null,
            "visibility": null,
            "width": null
          }
        },
        "80d7ae6b9f2346ae8fb612fcd563e1e3": {
          "model_module": "@jupyter-widgets/controls",
          "model_name": "ProgressStyleModel",
          "model_module_version": "1.5.0",
          "state": {
            "_model_module": "@jupyter-widgets/controls",
            "_model_module_version": "1.5.0",
            "_model_name": "ProgressStyleModel",
            "_view_count": null,
            "_view_module": "@jupyter-widgets/base",
            "_view_module_version": "1.2.0",
            "_view_name": "StyleView",
            "bar_color": null,
            "description_width": ""
          }
        },
        "63a0143a02964929b28b017a81ba80eb": {
          "model_module": "@jupyter-widgets/base",
          "model_name": "LayoutModel",
          "model_module_version": "1.2.0",
          "state": {
            "_model_module": "@jupyter-widgets/base",
            "_model_module_version": "1.2.0",
            "_model_name": "LayoutModel",
            "_view_count": null,
            "_view_module": "@jupyter-widgets/base",
            "_view_module_version": "1.2.0",
            "_view_name": "LayoutView",
            "align_content": null,
            "align_items": null,
            "align_self": null,
            "border": null,
            "bottom": null,
            "display": null,
            "flex": null,
            "flex_flow": null,
            "grid_area": null,
            "grid_auto_columns": null,
            "grid_auto_flow": null,
            "grid_auto_rows": null,
            "grid_column": null,
            "grid_gap": null,
            "grid_row": null,
            "grid_template_areas": null,
            "grid_template_columns": null,
            "grid_template_rows": null,
            "height": null,
            "justify_content": null,
            "justify_items": null,
            "left": null,
            "margin": null,
            "max_height": null,
            "max_width": null,
            "min_height": null,
            "min_width": null,
            "object_fit": null,
            "object_position": null,
            "order": null,
            "overflow": null,
            "overflow_x": null,
            "overflow_y": null,
            "padding": null,
            "right": null,
            "top": null,
            "visibility": null,
            "width": null
          }
        },
        "0c9ce3aa628246f8927e5b31d312d005": {
          "model_module": "@jupyter-widgets/controls",
          "model_name": "DescriptionStyleModel",
          "model_module_version": "1.5.0",
          "state": {
            "_model_module": "@jupyter-widgets/controls",
            "_model_module_version": "1.5.0",
            "_model_name": "DescriptionStyleModel",
            "_view_count": null,
            "_view_module": "@jupyter-widgets/base",
            "_view_module_version": "1.2.0",
            "_view_name": "StyleView",
            "description_width": ""
          }
        }
      }
    }
  },
  "nbformat": 4,
  "nbformat_minor": 0
}